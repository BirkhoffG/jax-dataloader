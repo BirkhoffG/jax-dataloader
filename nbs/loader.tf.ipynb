{
 "cells": [
  {
   "cell_type": "code",
   "execution_count": null,
   "metadata": {},
   "outputs": [],
   "source": [
    "#| default_exp tensorflow.loaders"
   ]
  },
  {
   "cell_type": "code",
   "execution_count": null,
   "metadata": {},
   "outputs": [],
   "source": [
    "#| include: false\n",
    "%load_ext autoreload\n",
    "%autoreload 2\n",
    "from ipynb_path import *\n",
    "import warnings\n",
    "warnings.simplefilter(action='ignore', category=FutureWarning)"
   ]
  },
  {
   "cell_type": "code",
   "execution_count": null,
   "metadata": {},
   "outputs": [],
   "source": [
    "#| export\n",
    "from __future__ import print_function, division, annotations\n",
    "from jax_dataloader.imports import *\n",
    "from jax_dataloader.loaders import BaseDataLoader\n",
    "from jax_dataloader.datasets import Dataset, ArrayDataset\n",
    "from jax_dataloader.utils import is_tf_dataset, is_hf_dataset, is_jdl_dataset, check_tf_installed, get_config\n",
    "from jax_dataloader.tests import *\n",
    "from jax.tree_util import tree_map"
   ]
  },
  {
   "cell_type": "markdown",
   "metadata": {},
   "source": [
    "## `Tensorflow`-backed Dataloader"
   ]
  },
  {
   "cell_type": "code",
   "execution_count": null,
   "metadata": {},
   "outputs": [],
   "source": [
    "#| export\n",
    "def to_tf_dataset(dataset) -> tf.data.Dataset:\n",
    "    if is_tf_dataset(dataset):\n",
    "        return dataset\n",
    "    elif is_hf_dataset(dataset):\n",
    "        return dataset.to_tf_dataset()\n",
    "    elif is_jdl_dataset(dataset):\n",
    "        return tf.data.Dataset.from_tensor_slices(dataset[:])\n",
    "    else:\n",
    "        raise ValueError(f\"Dataset type {type(dataset)} is not supported.\")"
   ]
  },
  {
   "cell_type": "code",
   "execution_count": null,
   "metadata": {},
   "outputs": [],
   "source": [
    "#| export\n",
    "class DataLoaderTensorflow(BaseDataLoader):\n",
    "    \"\"\"Tensorflow Dataloader\"\"\"\n",
    "    def __init__(\n",
    "        self, \n",
    "        dataset,\n",
    "        batch_size: int = 1,  # Batch size\n",
    "        shuffle: bool = False,  # If true, dataloader shuffles before sampling each batch\n",
    "        drop_last: bool = False, # Drop last batch or not\n",
    "        **kwargs\n",
    "    ):\n",
    "        super().__init__(dataset, batch_size, shuffle, drop_last)\n",
    "        check_tf_installed()\n",
    "        # Convert to tf dataset\n",
    "        ds = to_tf_dataset(dataset)\n",
    "        ds = ds.shuffle(buffer_size=len(dataset), seed=get_config().global_seed) if shuffle else ds\n",
    "        ds = ds.batch(batch_size, drop_remainder=drop_last)\n",
    "        ds = ds.prefetch(tf.data.AUTOTUNE)\n",
    "        self.dataloader = ds\n",
    "\n",
    "    def __len__(self):\n",
    "        return len(self.dataloader)\n",
    "\n",
    "    def __next__(self):\n",
    "        return next(self.dataloader)\n",
    "\n",
    "    def __iter__(self):\n",
    "        return self.dataloader.as_numpy_iterator()"
   ]
  },
  {
   "cell_type": "code",
   "execution_count": null,
   "metadata": {},
   "outputs": [
    {
     "name": "stderr",
     "output_type": "stream",
     "text": [
      "An NVIDIA GPU may be present on this machine, but a CUDA-enabled jaxlib is not installed. Falling back to cpu.\n"
     ]
    }
   ],
   "source": [
    "#| tf\n",
    "test_dataloader(DataLoaderTensorflow, samples=20, batch_size=12)\n",
    "test_dataloader(DataLoaderTensorflow, samples=20, batch_size=10)\n",
    "test_dataloader(DataLoaderTensorflow, samples=11, batch_size=10)"
   ]
  }
 ],
 "metadata": {
  "kernelspec": {
   "display_name": "python3",
   "language": "python",
   "name": "python3"
  }
 },
 "nbformat": 4,
 "nbformat_minor": 2
}
