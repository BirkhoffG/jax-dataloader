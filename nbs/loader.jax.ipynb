{
 "cells": [
  {
   "cell_type": "markdown",
   "metadata": {},
   "source": [
    "# JAX Dataloader"
   ]
  },
  {
   "cell_type": "code",
   "execution_count": null,
   "metadata": {},
   "outputs": [],
   "source": [
    "#| default_exp loaders.jax"
   ]
  },
  {
   "cell_type": "code",
   "execution_count": null,
   "metadata": {},
   "outputs": [],
   "source": [
    "#| include: false\n",
    "%load_ext autoreload\n",
    "%autoreload 2\n",
    "from ipynb_path import *\n",
    "import warnings\n",
    "warnings.simplefilter(action='ignore', category=FutureWarning)"
   ]
  },
  {
   "cell_type": "code",
   "execution_count": null,
   "metadata": {},
   "outputs": [],
   "source": [
    "#| export\n",
    "from __future__ import print_function, division, annotations\n",
    "from jax_dataloader.imports import *\n",
    "from jax_dataloader.datasets import ArrayDataset, JAXDataset\n",
    "from jax_dataloader.loaders import BaseDataLoader\n",
    "from jax_dataloader.utils import get_config, asnumpy, Generator\n",
    "from jax_dataloader.tests import *\n",
    "import jax_dataloader as jdl\n",
    "from threading import Thread, Event\n",
    "from queue import Queue"
   ]
  },
  {
   "cell_type": "code",
   "execution_count": null,
   "metadata": {},
   "outputs": [],
   "source": [
    "#| export\n",
    "def EpochIterator(\n",
    "    data,\n",
    "    batch_size: int,\n",
    "    indices: Sequence[int]\n",
    "):\n",
    "    for i in range(0, len(indices), batch_size):\n",
    "        idx = indices[i:i+batch_size]\n",
    "        yield data[idx]"
   ]
  },
  {
   "cell_type": "code",
   "execution_count": null,
   "metadata": {},
   "outputs": [],
   "source": [
    "#| export\n",
    "@dispatch\n",
    "def to_jax_dataset(dataset: JAXDataset):\n",
    "    if isinstance(dataset, ArrayDataset):\n",
    "        dataset.asnumpy()\n",
    "    return dataset\n",
    "\n",
    "@dispatch\n",
    "def to_jax_dataset(dataset: HFDataset):\n",
    "    return dataset.with_format('numpy')"
   ]
  },
  {
   "cell_type": "code",
   "execution_count": null,
   "metadata": {},
   "outputs": [],
   "source": [
    "#| export\n",
    "class DataLoaderJAX(BaseDataLoader):\n",
    "\n",
    "    @typecheck\n",
    "    def __init__(\n",
    "        self, \n",
    "        dataset: Union[JAXDataset, HFDataset], \n",
    "        batch_size: int = 1,  # batch size\n",
    "        shuffle: bool = False,  # if true, dataloader shuffles before sampling each batch\n",
    "        num_workers: int = 0,  # how many subprocesses to use for data loading. Ignored.\n",
    "        drop_last: bool = False, # if true, drop the last incomplete batch\n",
    "        generator: Optional[Generator | jax.Array | torch.Generator] = None, # random seed generator\n",
    "        **kwargs\n",
    "    ):\n",
    "        self.dataset = to_jax_dataset(dataset)\n",
    "        \n",
    "        self.indices = np.arange(len(dataset))\n",
    "        self.batch_size = batch_size\n",
    "        self.shuffle = shuffle\n",
    "        self.drop_last = drop_last\n",
    "\n",
    "        # init rng key via generator\n",
    "        if not isinstance(generator, Generator):\n",
    "            generator = Generator(generator)\n",
    "        if generator is None:\n",
    "            # explicitly set the manual seed of the generator \n",
    "            generator = Generator().manual_seed(get_config().global_seed)\n",
    "        self.key = generator.jax_generator()\n",
    "    \n",
    "    def __iter__(self):\n",
    "        # shuffle (permutation) indices every epoch        \n",
    "        indices = jrand.permutation(self.next_key(), self.indices).__array__() if self.shuffle else self.indices\n",
    "        \n",
    "        if self.drop_last:\n",
    "            indices = indices[:len(self.indices) - len(self.indices) % self.batch_size]\n",
    "        return EpochIterator(self.dataset, self.batch_size, indices)\n",
    "    \n",
    "    def next_key(self):\n",
    "        self.key, subkey = jrand.split(self.key)\n",
    "        return subkey\n",
    "    \n",
    "    def __len__(self):\n",
    "        complete_batches, remainder = divmod(len(self.indices), self.batch_size)\n",
    "        return complete_batches if self.drop_last else complete_batches + bool(remainder)\n",
    "\n",
    "# %%"
   ]
  },
  {
   "cell_type": "code",
   "execution_count": null,
   "metadata": {},
   "outputs": [],
   "source": [
    "samples = 1280\n",
    "batch_size = 12\n",
    "feats = np.arange(samples).repeat(10).reshape(samples, 10)\n",
    "labels = np.arange(samples).reshape(samples, 1)\n",
    "ds = ArrayDataset(feats, labels)\n",
    "dl = DataLoaderJAX(ds, batch_size=batch_size, shuffle=True)\n",
    "assert len(dl) == 1280 // 12 + 1\n",
    "assert len(dl.indices) == 1280"
   ]
  },
  {
   "cell_type": "code",
   "execution_count": null,
   "metadata": {},
   "outputs": [],
   "source": [
    "samples = 128\n",
    "batch_size = 128\n",
    "feats = np.arange(samples).repeat(10).reshape(samples, 10)\n",
    "labels = np.arange(samples).reshape(samples, 1)\n",
    "ds = ArrayDataset(feats, labels)\n",
    "dl = DataLoaderJAX(ds, batch_size=batch_size, shuffle=True, drop_last=True)\n",
    "assert len(dl) == 1\n",
    "dl = DataLoaderJAX(ds, batch_size=batch_size, shuffle=True, drop_last=False)\n",
    "assert len(dl) == 1"
   ]
  },
  {
   "cell_type": "code",
   "execution_count": null,
   "metadata": {},
   "outputs": [],
   "source": [
    "#| hide\n",
    "test_dataloader(DataLoaderJAX, samples=10, batch_size=10)\n",
    "test_dataloader(DataLoaderJAX, samples=20, batch_size=12)\n",
    "test_dataloader(DataLoaderJAX, samples=20, batch_size=10)\n",
    "test_dataloader(DataLoaderJAX, samples=11, batch_size=10)\n",
    "test_dataloader(DataLoaderJAX, samples=40, batch_size=12)"
   ]
  },
  {
   "cell_type": "code",
   "execution_count": null,
   "metadata": {},
   "outputs": [],
   "source": [
    "#| hide\n",
    "test_dataloader(DataLoaderJAX, ds_type='hf', samples=40, batch_size=12)"
   ]
  },
  {
   "cell_type": "code",
   "execution_count": null,
   "metadata": {},
   "outputs": [
    {
     "name": "stdout",
     "output_type": "stream",
     "text": [
      "281 ms ± 27.8 ms per loop (mean ± std. dev. of 3 runs, 5 loops each)\n"
     ]
    }
   ],
   "source": [
    "%%timeit -n 5 -r 3\n",
    "test_dataloader(DataLoaderJAX, samples=1280, batch_size=10)"
   ]
  }
 ],
 "metadata": {
  "kernelspec": {
   "display_name": "python3",
   "language": "python",
   "name": "python3"
  }
 },
 "nbformat": 4,
 "nbformat_minor": 2
}
