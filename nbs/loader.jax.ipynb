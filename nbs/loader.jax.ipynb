{
 "cells": [
  {
   "cell_type": "markdown",
   "metadata": {},
   "source": [
    "# JAX Dataloader"
   ]
  },
  {
   "cell_type": "code",
   "execution_count": null,
   "metadata": {},
   "outputs": [],
   "source": [
    "#| default_exp loaders.jax"
   ]
  },
  {
   "cell_type": "code",
   "execution_count": null,
   "metadata": {},
   "outputs": [],
   "source": [
    "#| include: false\n",
    "%load_ext autoreload\n",
    "%autoreload 2\n",
    "from ipynb_path import *\n",
    "import warnings\n",
    "warnings.simplefilter(action='ignore', category=FutureWarning)"
   ]
  },
  {
   "cell_type": "code",
   "execution_count": null,
   "metadata": {},
   "outputs": [
    {
     "name": "stderr",
     "output_type": "stream",
     "text": [
      "2023-12-12 16:27:53.466287: E external/local_xla/xla/stream_executor/cuda/cuda_dnn.cc:9261] Unable to register cuDNN factory: Attempting to register factory for plugin cuDNN when one has already been registered\n",
      "2023-12-12 16:27:53.466334: E external/local_xla/xla/stream_executor/cuda/cuda_fft.cc:607] Unable to register cuFFT factory: Attempting to register factory for plugin cuFFT when one has already been registered\n",
      "2023-12-12 16:27:53.467004: E external/local_xla/xla/stream_executor/cuda/cuda_blas.cc:1515] Unable to register cuBLAS factory: Attempting to register factory for plugin cuBLAS when one has already been registered\n",
      "2023-12-12 16:27:54.056471: W tensorflow/compiler/tf2tensorrt/utils/py_utils.cc:38] TF-TRT Warning: Could not find TensorRT\n"
     ]
    },
    {
     "ename": "BeartypeDecorHintForwardRefException",
     "evalue": "Method jax_dataloader.loaders.jax.DataLoaderJAX.__init__() parameter \"dataset\" stringified type hint 'jdl.datasets.Dataset | hf_datasets.Dataset' syntactically invalid (i.e., TypeError(\"unsupported operand type(s) for |: 'type' and 'type'\")).",
     "output_type": "error",
     "traceback": [
      "\u001b[0;31m---------------------------------------------------------------------------\u001b[0m",
      "\u001b[0;31mTypeError\u001b[0m                                 Traceback (most recent call last)",
      "File \u001b[0;32m~/mambaforge-pypy3/envs/loader/lib/python3.9/site-packages/beartype/_check/forward/fwdhint.py:483\u001b[0m, in \u001b[0;36mresolve_hint\u001b[0;34m(hint, bear_call, exception_cls, exception_prefix)\u001b[0m\n\u001b[1;32m    482\u001b[0m \u001b[38;5;28;01mtry\u001b[39;00m:\n\u001b[0;32m--> 483\u001b[0m     hint_resolved \u001b[38;5;241m=\u001b[39m \u001b[38;5;28;43meval\u001b[39;49m\u001b[43m(\u001b[49m\u001b[43mhint\u001b[49m\u001b[43m,\u001b[49m\u001b[43m \u001b[49m\u001b[43mbear_call\u001b[49m\u001b[38;5;241;43m.\u001b[39;49m\u001b[43mfunc_wrappee_scope_forward\u001b[49m\u001b[43m)\u001b[49m\n\u001b[1;32m    484\u001b[0m \u001b[38;5;66;03m# If doing so failed for *ANY* reason whatsoever...\u001b[39;00m\n",
      "File \u001b[0;32m<string>:1\u001b[0m\n",
      "\u001b[0;31mTypeError\u001b[0m: unsupported operand type(s) for |: 'type' and 'type'",
      "\nThe above exception was the direct cause of the following exception:\n",
      "\u001b[0;31mBeartypeDecorHintForwardRefException\u001b[0m      Traceback (most recent call last)",
      "Cell \u001b[0;32mIn[2], line 3\u001b[0m\n\u001b[1;32m      1\u001b[0m \u001b[38;5;66;03m#| export\u001b[39;00m\n\u001b[1;32m      2\u001b[0m \u001b[38;5;28;01mfrom\u001b[39;00m \u001b[38;5;21;01m__future__\u001b[39;00m \u001b[38;5;28;01mimport\u001b[39;00m print_function, division, annotations\n\u001b[0;32m----> 3\u001b[0m \u001b[38;5;28;01mfrom\u001b[39;00m \u001b[38;5;21;01mjax_dataloader\u001b[39;00m\u001b[38;5;21;01m.\u001b[39;00m\u001b[38;5;21;01mimports\u001b[39;00m \u001b[38;5;28;01mimport\u001b[39;00m \u001b[38;5;241m*\u001b[39m\n\u001b[1;32m      4\u001b[0m \u001b[38;5;28;01mfrom\u001b[39;00m \u001b[38;5;21;01mjax_dataloader\u001b[39;00m\u001b[38;5;21;01m.\u001b[39;00m\u001b[38;5;21;01mdatasets\u001b[39;00m \u001b[38;5;28;01mimport\u001b[39;00m ArrayDataset\n\u001b[1;32m      5\u001b[0m \u001b[38;5;28;01mfrom\u001b[39;00m \u001b[38;5;21;01mjax_dataloader\u001b[39;00m\u001b[38;5;21;01m.\u001b[39;00m\u001b[38;5;21;01mloaders\u001b[39;00m \u001b[38;5;28;01mimport\u001b[39;00m BaseDataLoader\n",
      "File \u001b[0;32m~/code/jax-dataloader/jax_dataloader/__init__.py:4\u001b[0m\n\u001b[1;32m      1\u001b[0m __version__ \u001b[38;5;241m=\u001b[39m \u001b[38;5;124m\"\u001b[39m\u001b[38;5;124m0.1.0\u001b[39m\u001b[38;5;124m\"\u001b[39m\n\u001b[0;32m----> 4\u001b[0m \u001b[38;5;28;01mfrom\u001b[39;00m \u001b[38;5;21;01m.\u001b[39;00m\u001b[38;5;21;01mcore\u001b[39;00m \u001b[38;5;28;01mimport\u001b[39;00m \u001b[38;5;241m*\u001b[39m\n\u001b[1;32m      5\u001b[0m \u001b[38;5;28;01mfrom\u001b[39;00m \u001b[38;5;21;01m.\u001b[39;00m\u001b[38;5;21;01mutils\u001b[39;00m \u001b[38;5;28;01mimport\u001b[39;00m \u001b[38;5;241m*\u001b[39m\n\u001b[1;32m      6\u001b[0m \u001b[38;5;28;01mfrom\u001b[39;00m \u001b[38;5;21;01m.\u001b[39;00m\u001b[38;5;21;01mdatasets\u001b[39;00m \u001b[38;5;28;01mimport\u001b[39;00m \u001b[38;5;241m*\u001b[39m\n",
      "File \u001b[0;32m~/code/jax-dataloader/jax_dataloader/core.py:8\u001b[0m\n\u001b[1;32m      6\u001b[0m \u001b[38;5;28;01mfrom\u001b[39;00m \u001b[38;5;21;01m.\u001b[39;00m\u001b[38;5;21;01mutils\u001b[39;00m \u001b[38;5;28;01mimport\u001b[39;00m \u001b[38;5;241m*\u001b[39m\n\u001b[1;32m      7\u001b[0m \u001b[38;5;28;01mfrom\u001b[39;00m \u001b[38;5;21;01m.\u001b[39;00m\u001b[38;5;21;01mdatasets\u001b[39;00m \u001b[38;5;28;01mimport\u001b[39;00m \u001b[38;5;241m*\u001b[39m\n\u001b[0;32m----> 8\u001b[0m \u001b[38;5;28;01mfrom\u001b[39;00m \u001b[38;5;21;01m.\u001b[39;00m\u001b[38;5;21;01mloaders\u001b[39;00m \u001b[38;5;28;01mimport\u001b[39;00m \u001b[38;5;241m*\u001b[39m\n\u001b[1;32m     10\u001b[0m \u001b[38;5;66;03m# %% auto 0\u001b[39;00m\n\u001b[1;32m     11\u001b[0m __all__ \u001b[38;5;241m=\u001b[39m [\u001b[38;5;124m'\u001b[39m\u001b[38;5;124mSUPPORTED_DATASETS\u001b[39m\u001b[38;5;124m'\u001b[39m, \u001b[38;5;124m'\u001b[39m\u001b[38;5;124mDataloaderBackends\u001b[39m\u001b[38;5;124m'\u001b[39m, \u001b[38;5;124m'\u001b[39m\u001b[38;5;124mDataLoader\u001b[39m\u001b[38;5;124m'\u001b[39m]\n",
      "File \u001b[0;32m~/code/jax-dataloader/jax_dataloader/loaders/__init__.py:2\u001b[0m\n\u001b[1;32m      1\u001b[0m \u001b[38;5;28;01mfrom\u001b[39;00m \u001b[38;5;21;01m.\u001b[39;00m\u001b[38;5;21;01mbase\u001b[39;00m \u001b[38;5;28;01mimport\u001b[39;00m \u001b[38;5;241m*\u001b[39m\n\u001b[0;32m----> 2\u001b[0m \u001b[38;5;28;01mfrom\u001b[39;00m \u001b[38;5;21;01m.\u001b[39;00m\u001b[38;5;21;01mjax\u001b[39;00m \u001b[38;5;28;01mimport\u001b[39;00m \u001b[38;5;241m*\u001b[39m\n\u001b[1;32m      3\u001b[0m \u001b[38;5;28;01mfrom\u001b[39;00m \u001b[38;5;21;01m.\u001b[39;00m\u001b[38;5;21;01mtorch\u001b[39;00m \u001b[38;5;28;01mimport\u001b[39;00m \u001b[38;5;241m*\u001b[39m\n\u001b[1;32m      4\u001b[0m \u001b[38;5;28;01mfrom\u001b[39;00m \u001b[38;5;21;01m.\u001b[39;00m\u001b[38;5;21;01mtensorflow\u001b[39;00m \u001b[38;5;28;01mimport\u001b[39;00m \u001b[38;5;241m*\u001b[39m\n",
      "File \u001b[0;32m~/code/jax-dataloader/jax_dataloader/loaders/jax.py:77\u001b[0m\n\u001b[1;32m     73\u001b[0m         \u001b[38;5;28;01mreturn\u001b[39;00m batch\n\u001b[1;32m     76\u001b[0m \u001b[38;5;66;03m# %% ../../nbs/loader.jax.ipynb 7\u001b[39;00m\n\u001b[0;32m---> 77\u001b[0m \u001b[38;5;28;01mclass\u001b[39;00m \u001b[38;5;21;01mDataLoaderJAX\u001b[39;00m(BaseDataLoader):\n\u001b[1;32m     79\u001b[0m     \u001b[38;5;129m@typecheck\u001b[39m\n\u001b[1;32m     80\u001b[0m     \u001b[38;5;28;01mdef\u001b[39;00m \u001b[38;5;21m__init__\u001b[39m(\n\u001b[1;32m     81\u001b[0m         \u001b[38;5;28mself\u001b[39m, \n\u001b[0;32m   (...)\u001b[0m\n\u001b[1;32m     87\u001b[0m         \u001b[38;5;241m*\u001b[39m\u001b[38;5;241m*\u001b[39mkwargs\n\u001b[1;32m     88\u001b[0m     ):\n\u001b[1;32m     89\u001b[0m         \u001b[38;5;28mself\u001b[39m\u001b[38;5;241m.\u001b[39mkey \u001b[38;5;241m=\u001b[39m jrand\u001b[38;5;241m.\u001b[39mPRNGKey(get_config()\u001b[38;5;241m.\u001b[39mglobal_seed)\n",
      "File \u001b[0;32m~/code/jax-dataloader/jax_dataloader/loaders/jax.py:80\u001b[0m, in \u001b[0;36mDataLoaderJAX\u001b[0;34m()\u001b[0m\n\u001b[1;32m     77\u001b[0m \u001b[38;5;28;01mclass\u001b[39;00m \u001b[38;5;21;01mDataLoaderJAX\u001b[39;00m(BaseDataLoader):\n\u001b[1;32m     79\u001b[0m \u001b[43m    \u001b[49m\u001b[38;5;129;43m@typecheck\u001b[39;49m\n\u001b[0;32m---> 80\u001b[0m \u001b[43m    \u001b[49m\u001b[38;5;28;43;01mdef\u001b[39;49;00m\u001b[43m \u001b[49m\u001b[38;5;21;43m__init__\u001b[39;49m\u001b[43m(\u001b[49m\n\u001b[1;32m     81\u001b[0m \u001b[43m        \u001b[49m\u001b[38;5;28;43mself\u001b[39;49m\u001b[43m,\u001b[49m\u001b[43m \u001b[49m\n\u001b[1;32m     82\u001b[0m \u001b[43m        \u001b[49m\u001b[43mdataset\u001b[49m\u001b[43m:\u001b[49m\u001b[43m \u001b[49m\u001b[43mjdl\u001b[49m\u001b[38;5;241;43m.\u001b[39;49m\u001b[43mdatasets\u001b[49m\u001b[38;5;241;43m.\u001b[39;49m\u001b[43mDataset\u001b[49m\u001b[43m \u001b[49m\u001b[38;5;241;43m|\u001b[39;49m\u001b[43m \u001b[49m\u001b[43mhf_datasets\u001b[49m\u001b[38;5;241;43m.\u001b[39;49m\u001b[43mDataset\u001b[49m\u001b[43m,\u001b[49m\u001b[43m \u001b[49m\n\u001b[1;32m     83\u001b[0m \u001b[43m        \u001b[49m\u001b[43mbatch_size\u001b[49m\u001b[43m:\u001b[49m\u001b[43m \u001b[49m\u001b[38;5;28;43mint\u001b[39;49m\u001b[43m \u001b[49m\u001b[38;5;241;43m=\u001b[39;49m\u001b[43m \u001b[49m\u001b[38;5;241;43m1\u001b[39;49m\u001b[43m,\u001b[49m\u001b[43m  \u001b[49m\u001b[38;5;66;43;03m# batch size\u001b[39;49;00m\n\u001b[1;32m     84\u001b[0m \u001b[43m        \u001b[49m\u001b[43mshuffle\u001b[49m\u001b[43m:\u001b[49m\u001b[43m \u001b[49m\u001b[38;5;28;43mbool\u001b[39;49m\u001b[43m \u001b[49m\u001b[38;5;241;43m=\u001b[39;49m\u001b[43m \u001b[49m\u001b[38;5;28;43;01mFalse\u001b[39;49;00m\u001b[43m,\u001b[49m\u001b[43m  \u001b[49m\u001b[38;5;66;43;03m# if true, dataloader shuffles before sampling each batch\u001b[39;49;00m\n\u001b[1;32m     85\u001b[0m \u001b[43m        \u001b[49m\u001b[43mnum_workers\u001b[49m\u001b[43m:\u001b[49m\u001b[43m \u001b[49m\u001b[38;5;28;43mint\u001b[39;49m\u001b[43m \u001b[49m\u001b[38;5;241;43m=\u001b[39;49m\u001b[43m \u001b[49m\u001b[38;5;241;43m0\u001b[39;49m\u001b[43m,\u001b[49m\u001b[43m  \u001b[49m\u001b[38;5;66;43;03m# how many subprocesses to use for data loading. Ignored.\u001b[39;49;00m\n\u001b[1;32m     86\u001b[0m \u001b[43m        \u001b[49m\u001b[43mdrop_last\u001b[49m\u001b[43m:\u001b[49m\u001b[43m \u001b[49m\u001b[38;5;28;43mbool\u001b[39;49m\u001b[43m \u001b[49m\u001b[38;5;241;43m=\u001b[39;49m\u001b[43m \u001b[49m\u001b[38;5;28;43;01mFalse\u001b[39;49;00m\u001b[43m,\u001b[49m\n\u001b[1;32m     87\u001b[0m \u001b[43m        \u001b[49m\u001b[38;5;241;43m*\u001b[39;49m\u001b[38;5;241;43m*\u001b[39;49m\u001b[43mkwargs\u001b[49m\n\u001b[1;32m     88\u001b[0m \u001b[43m    \u001b[49m\u001b[43m)\u001b[49m\u001b[43m:\u001b[49m\n\u001b[1;32m     89\u001b[0m \u001b[43m        \u001b[49m\u001b[38;5;28;43mself\u001b[39;49m\u001b[38;5;241;43m.\u001b[39;49m\u001b[43mkey\u001b[49m\u001b[43m \u001b[49m\u001b[38;5;241;43m=\u001b[39;49m\u001b[43m \u001b[49m\u001b[43mjrand\u001b[49m\u001b[38;5;241;43m.\u001b[39;49m\u001b[43mPRNGKey\u001b[49m\u001b[43m(\u001b[49m\u001b[43mget_config\u001b[49m\u001b[43m(\u001b[49m\u001b[43m)\u001b[49m\u001b[38;5;241;43m.\u001b[39;49m\u001b[43mglobal_seed\u001b[49m\u001b[43m)\u001b[49m\n\u001b[1;32m     90\u001b[0m \u001b[43m        \u001b[49m\u001b[38;5;28;43mself\u001b[39;49m\u001b[38;5;241;43m.\u001b[39;49m\u001b[43mdataset\u001b[49m\u001b[43m \u001b[49m\u001b[38;5;241;43m=\u001b[39;49m\u001b[43m \u001b[49m\u001b[43mdataset\u001b[49m\n",
      "File \u001b[0;32m~/mambaforge-pypy3/envs/loader/lib/python3.9/site-packages/beartype/_decor/decorcache.py:77\u001b[0m, in \u001b[0;36mbeartype\u001b[0;34m(obj, conf)\u001b[0m\n\u001b[1;32m     62\u001b[0m \u001b[38;5;66;03m# Else, \"conf\" is a configuration.\u001b[39;00m\n\u001b[1;32m     63\u001b[0m \u001b[38;5;66;03m#\u001b[39;00m\n\u001b[1;32m     64\u001b[0m \u001b[38;5;66;03m# If passed an object to be decorated, this decorator is in decoration\u001b[39;00m\n\u001b[0;32m   (...)\u001b[0m\n\u001b[1;32m     74\u001b[0m \u001b[38;5;66;03m# here; callers that are doing this are sufficiently intelligent to be\u001b[39;00m\n\u001b[1;32m     75\u001b[0m \u001b[38;5;66;03m# trusted to violate PEP 561-compliance if they so choose. So... *shrug*\u001b[39;00m\n\u001b[1;32m     76\u001b[0m \u001b[38;5;28;01melif\u001b[39;00m obj \u001b[38;5;129;01mis\u001b[39;00m \u001b[38;5;129;01mnot\u001b[39;00m \u001b[38;5;28;01mNone\u001b[39;00m:\n\u001b[0;32m---> 77\u001b[0m     \u001b[38;5;28;01mreturn\u001b[39;00m \u001b[43mbeartype_object\u001b[49m\u001b[43m(\u001b[49m\u001b[43mobj\u001b[49m\u001b[43m,\u001b[49m\u001b[43m \u001b[49m\u001b[43mconf\u001b[49m\u001b[43m)\u001b[49m\n\u001b[1;32m     78\u001b[0m \u001b[38;5;66;03m# Else, we were passed *NO* object to be decorated. In this case, this\u001b[39;00m\n\u001b[1;32m     79\u001b[0m \u001b[38;5;66;03m# decorator is in configuration rather than decoration mode.\u001b[39;00m\n\u001b[1;32m     80\u001b[0m \n\u001b[0;32m   (...)\u001b[0m\n\u001b[1;32m     86\u001b[0m \u001b[38;5;66;03m# \"None\" otherwise (i.e., if this is the first call to this public\u001b[39;00m\n\u001b[1;32m     87\u001b[0m \u001b[38;5;66;03m# decorator passed this configuration in configuration mode). Phew!\u001b[39;00m\n\u001b[1;32m     88\u001b[0m beartype_confed_cached \u001b[38;5;241m=\u001b[39m _bear_conf_to_decor\u001b[38;5;241m.\u001b[39mget(conf)\n",
      "File \u001b[0;32m~/mambaforge-pypy3/envs/loader/lib/python3.9/site-packages/beartype/_decor/decorcore.py:80\u001b[0m, in \u001b[0;36mbeartype_object\u001b[0;34m(obj, conf, **kwargs)\u001b[0m\n\u001b[1;32m     44\u001b[0m \u001b[38;5;250m\u001b[39m\u001b[38;5;124;03m'''\u001b[39;00m\n\u001b[1;32m     45\u001b[0m \u001b[38;5;124;03mDecorate the passed **beartypeable** (i.e., caller-defined object that may\u001b[39;00m\n\u001b[1;32m     46\u001b[0m \u001b[38;5;124;03mbe decorated by the :func:`beartype.beartype` decorator) with optimal\u001b[39;00m\n\u001b[0;32m   (...)\u001b[0m\n\u001b[1;32m     74\u001b[0m \u001b[38;5;124;03m    Memoized parent decorator wrapping this unmemoized child decorator.\u001b[39;00m\n\u001b[1;32m     75\u001b[0m \u001b[38;5;124;03m'''\u001b[39;00m\n\u001b[1;32m     76\u001b[0m \u001b[38;5;66;03m# print(f'Decorating object {repr(obj)}...')\u001b[39;00m\n\u001b[1;32m     77\u001b[0m \n\u001b[1;32m     78\u001b[0m \u001b[38;5;66;03m# Return either...\u001b[39;00m\n\u001b[1;32m     79\u001b[0m \u001b[38;5;28;01mreturn\u001b[39;00m (\n\u001b[0;32m---> 80\u001b[0m     \u001b[43m_beartype_object_fatal\u001b[49m\u001b[43m(\u001b[49m\u001b[43mobj\u001b[49m\u001b[43m,\u001b[49m\u001b[43m \u001b[49m\u001b[43mconf\u001b[49m\u001b[38;5;241;43m=\u001b[39;49m\u001b[43mconf\u001b[49m\u001b[43m,\u001b[49m\u001b[43m \u001b[49m\u001b[38;5;241;43m*\u001b[39;49m\u001b[38;5;241;43m*\u001b[39;49m\u001b[43mkwargs\u001b[49m\u001b[43m)\u001b[49m\n\u001b[1;32m     81\u001b[0m     \u001b[38;5;66;03m# If this beartype configuration requests that this decorator raise\u001b[39;00m\n\u001b[1;32m     82\u001b[0m     \u001b[38;5;66;03m# fatal exceptions at decoration time, defer to the lower-level\u001b[39;00m\n\u001b[1;32m     83\u001b[0m     \u001b[38;5;66;03m# decorator doing so;\u001b[39;00m\n\u001b[1;32m     84\u001b[0m     \u001b[38;5;28;01mif\u001b[39;00m conf\u001b[38;5;241m.\u001b[39mwarning_cls_on_decorator_exception \u001b[38;5;129;01mis\u001b[39;00m \u001b[38;5;28;01mNone\u001b[39;00m \u001b[38;5;28;01melse\u001b[39;00m\n\u001b[1;32m     85\u001b[0m     \u001b[38;5;66;03m# Else, this beartype configuration requests that this decorator emit\u001b[39;00m\n\u001b[1;32m     86\u001b[0m     \u001b[38;5;66;03m# fatal warnings at decoration time. In this case, defer to the\u001b[39;00m\n\u001b[1;32m     87\u001b[0m     \u001b[38;5;66;03m# lower-level decorator doing so.\u001b[39;00m\n\u001b[1;32m     88\u001b[0m     _beartype_object_nonfatal(obj, conf\u001b[38;5;241m=\u001b[39mconf, \u001b[38;5;241m*\u001b[39m\u001b[38;5;241m*\u001b[39mkwargs)\n\u001b[1;32m     89\u001b[0m )\n",
      "File \u001b[0;32m~/mambaforge-pypy3/envs/loader/lib/python3.9/site-packages/beartype/_decor/decorcore.py:129\u001b[0m, in \u001b[0;36m_beartype_object_fatal\u001b[0;34m(obj, **kwargs)\u001b[0m\n\u001b[1;32m     93\u001b[0m \u001b[38;5;250m\u001b[39m\u001b[38;5;124;03m'''\u001b[39;00m\n\u001b[1;32m     94\u001b[0m \u001b[38;5;124;03mDecorate the passed **beartypeable** (i.e., caller-defined object that may\u001b[39;00m\n\u001b[1;32m     95\u001b[0m \u001b[38;5;124;03mbe decorated by the :func:`beartype.beartype` decorator) with optimal\u001b[39;00m\n\u001b[0;32m   (...)\u001b[0m\n\u001b[1;32m    119\u001b[0m \u001b[38;5;124;03m    Memoized parent decorator wrapping this unmemoized child decorator.\u001b[39;00m\n\u001b[1;32m    120\u001b[0m \u001b[38;5;124;03m'''\u001b[39;00m\n\u001b[1;32m    122\u001b[0m \u001b[38;5;66;03m# Return either...\u001b[39;00m\n\u001b[1;32m    123\u001b[0m \u001b[38;5;28;01mreturn\u001b[39;00m (\n\u001b[1;32m    124\u001b[0m     \u001b[38;5;66;03m# If this object is a class, this class decorated with type-checking.\u001b[39;00m\n\u001b[1;32m    125\u001b[0m     beartype_type(obj, \u001b[38;5;241m*\u001b[39m\u001b[38;5;241m*\u001b[39mkwargs)  \u001b[38;5;66;03m# type: ignore[return-value]\u001b[39;00m\n\u001b[1;32m    126\u001b[0m     \u001b[38;5;28;01mif\u001b[39;00m \u001b[38;5;28misinstance\u001b[39m(obj, \u001b[38;5;28mtype\u001b[39m) \u001b[38;5;28;01melse\u001b[39;00m\n\u001b[1;32m    127\u001b[0m     \u001b[38;5;66;03m# Else, this object is a non-class. In this case, this non-class\u001b[39;00m\n\u001b[1;32m    128\u001b[0m     \u001b[38;5;66;03m# decorated with type-checking.\u001b[39;00m\n\u001b[0;32m--> 129\u001b[0m     \u001b[43mbeartype_nontype\u001b[49m\u001b[43m(\u001b[49m\u001b[43mobj\u001b[49m\u001b[43m,\u001b[49m\u001b[43m \u001b[49m\u001b[38;5;241;43m*\u001b[39;49m\u001b[38;5;241;43m*\u001b[39;49m\u001b[43mkwargs\u001b[49m\u001b[43m)\u001b[49m  \u001b[38;5;66;03m# type: ignore[return-value]\u001b[39;00m\n\u001b[1;32m    130\u001b[0m )\n",
      "File \u001b[0;32m~/mambaforge-pypy3/envs/loader/lib/python3.9/site-packages/beartype/_decor/_decornontype.py:177\u001b[0m, in \u001b[0;36mbeartype_nontype\u001b[0;34m(obj, **kwargs)\u001b[0m\n\u001b[1;32m    172\u001b[0m     \u001b[38;5;28;01mreturn\u001b[39;00m beartype_func_contextlib_contextmanager(obj, \u001b[38;5;241m*\u001b[39m\u001b[38;5;241m*\u001b[39mkwargs)  \u001b[38;5;66;03m# type: ignore[return-value]\u001b[39;00m\n\u001b[1;32m    173\u001b[0m \u001b[38;5;66;03m# Else, this function is *NOT* a @contextlib.contextmanager-based isomorphic\u001b[39;00m\n\u001b[1;32m    174\u001b[0m \u001b[38;5;66;03m# decorator closure.\u001b[39;00m\n\u001b[1;32m    175\u001b[0m \n\u001b[1;32m    176\u001b[0m \u001b[38;5;66;03m# Return a new callable decorating that callable with type-checking.\u001b[39;00m\n\u001b[0;32m--> 177\u001b[0m \u001b[38;5;28;01mreturn\u001b[39;00m \u001b[43mbeartype_func\u001b[49m\u001b[43m(\u001b[49m\u001b[43mobj\u001b[49m\u001b[43m,\u001b[49m\u001b[43m \u001b[49m\u001b[38;5;241;43m*\u001b[39;49m\u001b[38;5;241;43m*\u001b[39;49m\u001b[43mkwargs\u001b[49m\u001b[43m)\u001b[49m\n",
      "File \u001b[0;32m~/mambaforge-pypy3/envs/loader/lib/python3.9/site-packages/beartype/_decor/_decornontype.py:242\u001b[0m, in \u001b[0;36mbeartype_func\u001b[0;34m(func, conf, **kwargs)\u001b[0m\n\u001b[1;32m    239\u001b[0m bear_call \u001b[38;5;241m=\u001b[39m make_beartype_call(func, conf, \u001b[38;5;241m*\u001b[39m\u001b[38;5;241m*\u001b[39mkwargs)\n\u001b[1;32m    241\u001b[0m \u001b[38;5;66;03m# Generate the raw string of Python statements implementing this wrapper.\u001b[39;00m\n\u001b[0;32m--> 242\u001b[0m func_wrapper_code \u001b[38;5;241m=\u001b[39m \u001b[43mgenerate_code\u001b[49m\u001b[43m(\u001b[49m\u001b[43mbear_call\u001b[49m\u001b[43m)\u001b[49m\n\u001b[1;32m    244\u001b[0m \u001b[38;5;66;03m# If that callable requires *NO* type-checking, silently reduce to a noop\u001b[39;00m\n\u001b[1;32m    245\u001b[0m \u001b[38;5;66;03m# and thus the identity decorator by returning that callable as is.\u001b[39;00m\n\u001b[1;32m    246\u001b[0m \u001b[38;5;28;01mif\u001b[39;00m \u001b[38;5;129;01mnot\u001b[39;00m func_wrapper_code:\n",
      "File \u001b[0;32m~/mambaforge-pypy3/envs/loader/lib/python3.9/site-packages/beartype/_decor/wrap/wrapmain.py:181\u001b[0m, in \u001b[0;36mgenerate_code\u001b[0;34m(bear_call, CODE_RETURN_UNCHECKED_format)\u001b[0m\n\u001b[1;32m    175\u001b[0m \u001b[38;5;28;01massert\u001b[39;00m bear_call\u001b[38;5;241m.\u001b[39m\u001b[38;5;18m__class__\u001b[39m \u001b[38;5;129;01mis\u001b[39;00m BeartypeCall, (\n\u001b[1;32m    176\u001b[0m     \u001b[38;5;124mf\u001b[39m\u001b[38;5;124m'\u001b[39m\u001b[38;5;132;01m{\u001b[39;00m\u001b[38;5;28mrepr\u001b[39m(bear_call)\u001b[38;5;132;01m}\u001b[39;00m\u001b[38;5;124m not @beartype call.\u001b[39m\u001b[38;5;124m'\u001b[39m)\n\u001b[1;32m    178\u001b[0m \u001b[38;5;66;03m# Python code snippet type-checking all callable parameters if one or more\u001b[39;00m\n\u001b[1;32m    179\u001b[0m \u001b[38;5;66;03m# such parameters are annotated with unignorable type hints *OR* the empty\u001b[39;00m\n\u001b[1;32m    180\u001b[0m \u001b[38;5;66;03m# string otherwise.\u001b[39;00m\n\u001b[0;32m--> 181\u001b[0m code_check_params \u001b[38;5;241m=\u001b[39m \u001b[43m_code_check_args\u001b[49m\u001b[43m(\u001b[49m\u001b[43mbear_call\u001b[49m\u001b[43m)\u001b[49m\n\u001b[1;32m    183\u001b[0m \u001b[38;5;66;03m# Python code snippet type-checking the callable return if this return is\u001b[39;00m\n\u001b[1;32m    184\u001b[0m \u001b[38;5;66;03m# annotated with an unignorable type hint *OR* the empty string otherwise.\u001b[39;00m\n\u001b[1;32m    185\u001b[0m code_check_return \u001b[38;5;241m=\u001b[39m _code_check_return(bear_call)\n",
      "File \u001b[0;32m~/mambaforge-pypy3/envs/loader/lib/python3.9/site-packages/beartype/_decor/wrap/wrapmain.py:480\u001b[0m, in \u001b[0;36m_code_check_args\u001b[0;34m(bear_call)\u001b[0m\n\u001b[1;32m    475\u001b[0m     \u001b[38;5;66;03m# If any exception was raised, reraise this exception with each\u001b[39;00m\n\u001b[1;32m    476\u001b[0m     \u001b[38;5;66;03m# placeholder substring (i.e., \"EXCEPTION_PLACEHOLDER\" instance)\u001b[39;00m\n\u001b[1;32m    477\u001b[0m     \u001b[38;5;66;03m# replaced by a human-readable description of this callable and\u001b[39;00m\n\u001b[1;32m    478\u001b[0m     \u001b[38;5;66;03m# annotated parameter.\u001b[39;00m\n\u001b[1;32m    479\u001b[0m     \u001b[38;5;28;01mexcept\u001b[39;00m \u001b[38;5;167;01mException\u001b[39;00m \u001b[38;5;28;01mas\u001b[39;00m exception:\n\u001b[0;32m--> 480\u001b[0m         \u001b[43mreraise_exception_placeholder\u001b[49m\u001b[43m(\u001b[49m\n\u001b[1;32m    481\u001b[0m \u001b[43m            \u001b[49m\u001b[43mexception\u001b[49m\u001b[38;5;241;43m=\u001b[39;49m\u001b[43mexception\u001b[49m\u001b[43m,\u001b[49m\n\u001b[1;32m    482\u001b[0m \u001b[43m            \u001b[49m\u001b[38;5;66;43;03m#FIXME: Embed the kind of parameter as well (e.g.,\u001b[39;49;00m\n\u001b[1;32m    483\u001b[0m \u001b[43m            \u001b[49m\u001b[38;5;66;43;03m#\"positional-only\", \"keyword-only\", \"variadic positional\"),\u001b[39;49;00m\n\u001b[1;32m    484\u001b[0m \u001b[43m            \u001b[49m\u001b[38;5;66;43;03m#ideally by improving the existing prefix_beartypeable_arg()\u001b[39;49;00m\n\u001b[1;32m    485\u001b[0m \u001b[43m            \u001b[49m\u001b[38;5;66;43;03m#function to introspect this kind from the callable code object.\u001b[39;49;00m\n\u001b[1;32m    486\u001b[0m \u001b[43m            \u001b[49m\u001b[43mtarget_str\u001b[49m\u001b[38;5;241;43m=\u001b[39;49m\u001b[43mprefix_beartypeable_arg\u001b[49m\u001b[43m(\u001b[49m\n\u001b[1;32m    487\u001b[0m \u001b[43m                \u001b[49m\u001b[43mfunc\u001b[49m\u001b[38;5;241;43m=\u001b[39;49m\u001b[43mbear_call\u001b[49m\u001b[38;5;241;43m.\u001b[39;49m\u001b[43mfunc_wrappee\u001b[49m\u001b[43m,\u001b[49m\u001b[43m \u001b[49m\u001b[43marg_name\u001b[49m\u001b[38;5;241;43m=\u001b[39;49m\u001b[43marg_name\u001b[49m\u001b[43m)\u001b[49m\u001b[43m,\u001b[49m\n\u001b[1;32m    488\u001b[0m \u001b[43m        \u001b[49m\u001b[43m)\u001b[49m\n\u001b[1;32m    490\u001b[0m \u001b[38;5;66;03m# If this callable accepts one or more positional type-checked parameters,\u001b[39;00m\n\u001b[1;32m    491\u001b[0m \u001b[38;5;66;03m# prefix this code by a snippet localizing the number of these parameters.\u001b[39;00m\n\u001b[1;32m    492\u001b[0m \u001b[38;5;28;01mif\u001b[39;00m is_args_positional:\n",
      "File \u001b[0;32m~/mambaforge-pypy3/envs/loader/lib/python3.9/site-packages/beartype/_util/error/utilerror.py:214\u001b[0m, in \u001b[0;36mreraise_exception_placeholder\u001b[0;34m(exception, target_str, source_str)\u001b[0m\n\u001b[1;32m    208\u001b[0m         exception\u001b[38;5;241m.\u001b[39margs \u001b[38;5;241m=\u001b[39m (exception_message,) \u001b[38;5;241m+\u001b[39m exception\u001b[38;5;241m.\u001b[39margs[\u001b[38;5;241m1\u001b[39m:]\n\u001b[1;32m    209\u001b[0m     \u001b[38;5;66;03m# Else, this message remains preserved as is.\u001b[39;00m\n\u001b[1;32m    210\u001b[0m \u001b[38;5;66;03m# Else, this is an unconventional exception. In this case, preserve this\u001b[39;00m\n\u001b[1;32m    211\u001b[0m \u001b[38;5;66;03m# exception as is.\u001b[39;00m\n\u001b[1;32m    212\u001b[0m \n\u001b[1;32m    213\u001b[0m \u001b[38;5;66;03m# Re-raise this exception while preserving its original traceback.\u001b[39;00m\n\u001b[0;32m--> 214\u001b[0m \u001b[38;5;28;01mraise\u001b[39;00m exception\u001b[38;5;241m.\u001b[39mwith_traceback(exception\u001b[38;5;241m.\u001b[39m__traceback__)\n",
      "File \u001b[0;32m~/mambaforge-pypy3/envs/loader/lib/python3.9/site-packages/beartype/_decor/wrap/wrapmain.py:388\u001b[0m, in \u001b[0;36m_code_check_args\u001b[0;34m(bear_call)\u001b[0m\n\u001b[1;32m    382\u001b[0m     \u001b[38;5;28;01mcontinue\u001b[39;00m\n\u001b[1;32m    383\u001b[0m \u001b[38;5;66;03m# Else, this parameter is non-ignorable.\u001b[39;00m\n\u001b[1;32m    384\u001b[0m \n\u001b[1;32m    385\u001b[0m \u001b[38;5;66;03m# Sanitize this hint into a possibly different type hint more\u001b[39;00m\n\u001b[1;32m    386\u001b[0m \u001b[38;5;66;03m# readily consumable by @beartype's code generator *BEFORE* passing\u001b[39;00m\n\u001b[1;32m    387\u001b[0m \u001b[38;5;66;03m# this hint to any further callables.\u001b[39;00m\n\u001b[0;32m--> 388\u001b[0m hint_sane \u001b[38;5;241m=\u001b[39m \u001b[43msanify_hint_root_func\u001b[49m\u001b[43m(\u001b[49m\n\u001b[1;32m    389\u001b[0m \u001b[43m    \u001b[49m\u001b[43mhint\u001b[49m\u001b[38;5;241;43m=\u001b[39;49m\u001b[43mhint\u001b[49m\u001b[43m,\u001b[49m\u001b[43m \u001b[49m\u001b[43marg_name\u001b[49m\u001b[38;5;241;43m=\u001b[39;49m\u001b[43marg_name\u001b[49m\u001b[43m,\u001b[49m\u001b[43m \u001b[49m\u001b[43mbear_call\u001b[49m\u001b[38;5;241;43m=\u001b[39;49m\u001b[43mbear_call\u001b[49m\u001b[43m)\u001b[49m\n\u001b[1;32m    391\u001b[0m \u001b[38;5;66;03m# If this hint is ignorable, continue to the next parameter.\u001b[39;00m\n\u001b[1;32m    392\u001b[0m \u001b[38;5;66;03m#\u001b[39;00m\n\u001b[1;32m    393\u001b[0m \u001b[38;5;66;03m# Note that this is intentionally tested *AFTER* this hint has been\u001b[39;00m\n\u001b[1;32m    394\u001b[0m \u001b[38;5;66;03m# coerced into a PEP-compliant type hint to implicitly ignore\u001b[39;00m\n\u001b[1;32m    395\u001b[0m \u001b[38;5;66;03m# PEP-noncompliant type hints as well (e.g., \"(object, int, str)\").\u001b[39;00m\n\u001b[1;32m    396\u001b[0m \u001b[38;5;28;01mif\u001b[39;00m is_hint_ignorable(hint_sane):\n\u001b[1;32m    397\u001b[0m     \u001b[38;5;66;03m# print(f'Ignoring {bear_call.func_name} parameter {arg_name} hint {repr(hint)}...')\u001b[39;00m\n",
      "File \u001b[0;32m~/mambaforge-pypy3/envs/loader/lib/python3.9/site-packages/beartype/_check/convert/convsanify.py:129\u001b[0m, in \u001b[0;36msanify_hint_root_func\u001b[0;34m(hint, arg_name, bear_call, exception_prefix)\u001b[0m\n\u001b[1;32m     45\u001b[0m \u001b[38;5;250m\u001b[39m\u001b[38;5;124;03m'''\u001b[39;00m\n\u001b[1;32m     46\u001b[0m \u001b[38;5;124;03mPEP-compliant type hint sanified (i.e., sanitized) from the passed **root\u001b[39;00m\n\u001b[1;32m     47\u001b[0m \u001b[38;5;124;03mtype hint** (i.e., possibly PEP-noncompliant type hint annotating the\u001b[39;00m\n\u001b[0;32m   (...)\u001b[0m\n\u001b[1;32m    116\u001b[0m \u001b[38;5;124;03m    * A supported PEP-compliant type hint.\u001b[39;00m\n\u001b[1;32m    117\u001b[0m \u001b[38;5;124;03m'''\u001b[39;00m\n\u001b[1;32m    119\u001b[0m \u001b[38;5;66;03m#!!!!!!!!!!!!!!!!!!!!!!!!!!!!!!!!!!!!!!!!!!!!!!!!!!!!!!!!!!!!!!!!!!!!!!!!!!!\u001b[39;00m\n\u001b[1;32m    120\u001b[0m \u001b[38;5;66;03m# CAUTION: Synchronize with the sanify_hint_root_statement() sanitizer.\u001b[39;00m\n\u001b[1;32m    121\u001b[0m \u001b[38;5;66;03m#!!!!!!!!!!!!!!!!!!!!!!!!!!!!!!!!!!!!!!!!!!!!!!!!!!!!!!!!!!!!!!!!!!!!!!!!!!!\u001b[39;00m\n\u001b[0;32m   (...)\u001b[0m\n\u001b[1;32m    126\u001b[0m \u001b[38;5;66;03m# otherwise. Since the passed hint is *NOT* necessarily PEP-compliant,\u001b[39;00m\n\u001b[1;32m    127\u001b[0m \u001b[38;5;66;03m# perform this coercion *BEFORE* validating this hint to be PEP-compliant.\u001b[39;00m\n\u001b[1;32m    128\u001b[0m hint \u001b[38;5;241m=\u001b[39m bear_call\u001b[38;5;241m.\u001b[39mfunc_wrappee\u001b[38;5;241m.\u001b[39m\u001b[38;5;18m__annotations__\u001b[39m[arg_name] \u001b[38;5;241m=\u001b[39m (\n\u001b[0;32m--> 129\u001b[0m     \u001b[43mcoerce_func_hint_root\u001b[49m\u001b[43m(\u001b[49m\n\u001b[1;32m    130\u001b[0m \u001b[43m        \u001b[49m\u001b[43mhint\u001b[49m\u001b[38;5;241;43m=\u001b[39;49m\u001b[43mhint\u001b[49m\u001b[43m,\u001b[49m\n\u001b[1;32m    131\u001b[0m \u001b[43m        \u001b[49m\u001b[43marg_name\u001b[49m\u001b[38;5;241;43m=\u001b[39;49m\u001b[43marg_name\u001b[49m\u001b[43m,\u001b[49m\n\u001b[1;32m    132\u001b[0m \u001b[43m        \u001b[49m\u001b[43mbear_call\u001b[49m\u001b[38;5;241;43m=\u001b[39;49m\u001b[43mbear_call\u001b[49m\u001b[43m,\u001b[49m\n\u001b[1;32m    133\u001b[0m \u001b[43m        \u001b[49m\u001b[43mexception_prefix\u001b[49m\u001b[38;5;241;43m=\u001b[39;49m\u001b[43mexception_prefix\u001b[49m\u001b[43m,\u001b[49m\n\u001b[1;32m    134\u001b[0m \u001b[43m    \u001b[49m\u001b[43m)\u001b[49m\n\u001b[1;32m    135\u001b[0m )\n\u001b[1;32m    137\u001b[0m \u001b[38;5;66;03m# If this hint annotates the return, reduce this hint to a simpler hint if\u001b[39;00m\n\u001b[1;32m    138\u001b[0m \u001b[38;5;66;03m# this hint is either PEP 484- or 585-compliant *AND* requires reduction\u001b[39;00m\n\u001b[1;32m    139\u001b[0m \u001b[38;5;66;03m# (e.g., from \"Coroutine[None, None, str]\" to just \"str\"). Raise an\u001b[39;00m\n\u001b[0;32m   (...)\u001b[0m\n\u001b[1;32m    146\u001b[0m \u001b[38;5;66;03m# Note that this logic *ONLY* pertains to callables (rather than statements)\u001b[39;00m\n\u001b[1;32m    147\u001b[0m \u001b[38;5;66;03m# and is thus *NOT* performed by the sanify_hint_root_statement() sanitizer.\u001b[39;00m\n\u001b[1;32m    148\u001b[0m \u001b[38;5;28;01mif\u001b[39;00m arg_name \u001b[38;5;241m==\u001b[39m ARG_NAME_RETURN:\n",
      "File \u001b[0;32m~/mambaforge-pypy3/envs/loader/lib/python3.9/site-packages/beartype/_check/convert/convcoerce.py:137\u001b[0m, in \u001b[0;36mcoerce_func_hint_root\u001b[0;34m(hint, arg_name, bear_call, exception_prefix)\u001b[0m\n\u001b[1;32m    131\u001b[0m \u001b[38;5;66;03m# ..................{ FORWARD REFERENCE                  }..................\u001b[39;00m\n\u001b[1;32m    132\u001b[0m \u001b[38;5;66;03m# If this hint is stringified (e.g., as a PEP 484- or 563-compliant forward\u001b[39;00m\n\u001b[1;32m    133\u001b[0m \u001b[38;5;66;03m# reference), resolve this hint to the non-string hint to which this hint\u001b[39;00m\n\u001b[1;32m    134\u001b[0m \u001b[38;5;66;03m# refers *BEFORE* performing any subsequent logic with this hint -- *ALL* of\u001b[39;00m\n\u001b[1;32m    135\u001b[0m \u001b[38;5;66;03m# which assumes this hint to be a non-string hint.\u001b[39;00m\n\u001b[1;32m    136\u001b[0m \u001b[38;5;28;01mif\u001b[39;00m \u001b[38;5;28misinstance\u001b[39m(hint, \u001b[38;5;28mstr\u001b[39m):\n\u001b[0;32m--> 137\u001b[0m     hint \u001b[38;5;241m=\u001b[39m \u001b[43mresolve_hint\u001b[49m\u001b[43m(\u001b[49m\n\u001b[1;32m    138\u001b[0m \u001b[43m        \u001b[49m\u001b[43mhint\u001b[49m\u001b[38;5;241;43m=\u001b[39;49m\u001b[43mhint\u001b[49m\u001b[43m,\u001b[49m\n\u001b[1;32m    139\u001b[0m \u001b[43m        \u001b[49m\u001b[43mbear_call\u001b[49m\u001b[38;5;241;43m=\u001b[39;49m\u001b[43mbear_call\u001b[49m\u001b[43m,\u001b[49m\n\u001b[1;32m    140\u001b[0m \u001b[43m        \u001b[49m\u001b[43mexception_prefix\u001b[49m\u001b[38;5;241;43m=\u001b[39;49m\u001b[43mexception_prefix\u001b[49m\u001b[43m,\u001b[49m\n\u001b[1;32m    141\u001b[0m \u001b[43m    \u001b[49m\u001b[43m)\u001b[49m\n\u001b[1;32m    142\u001b[0m \u001b[38;5;66;03m# Else, this hint is *NOT* stringified.\u001b[39;00m\n\u001b[1;32m    143\u001b[0m \u001b[38;5;66;03m#\u001b[39;00m\n\u001b[1;32m    144\u001b[0m \u001b[38;5;66;03m# In either case, this hint is guaranteed to now be a non-string hint.\u001b[39;00m\n\u001b[1;32m    145\u001b[0m \n\u001b[1;32m    146\u001b[0m \u001b[38;5;66;03m# ..................{ MYPY                               }..................\u001b[39;00m\n\u001b[1;32m    147\u001b[0m \u001b[38;5;66;03m# If...\u001b[39;00m\n\u001b[1;32m    148\u001b[0m \u001b[38;5;28;01mif\u001b[39;00m (\n\u001b[1;32m    149\u001b[0m     \u001b[38;5;66;03m# This hint annotates the return for the decorated callable *AND*...\u001b[39;00m\n\u001b[1;32m    150\u001b[0m     arg_name \u001b[38;5;241m==\u001b[39m ARG_NAME_RETURN \u001b[38;5;129;01mand\u001b[39;00m\n\u001b[0;32m   (...)\u001b[0m\n\u001b[1;32m    196\u001b[0m     \u001b[38;5;66;03m# this edge case by effectively performing the same type expansion as\u001b[39;00m\n\u001b[1;32m    197\u001b[0m     \u001b[38;5;66;03m# performed here. *applause*\u001b[39;00m\n",
      "File \u001b[0;32m~/mambaforge-pypy3/envs/loader/lib/python3.9/site-packages/beartype/_check/forward/fwdhint.py:511\u001b[0m, in \u001b[0;36mresolve_hint\u001b[0;34m(hint, bear_call, exception_cls, exception_prefix)\u001b[0m\n\u001b[1;32m    501\u001b[0m         exception_message \u001b[38;5;241m+\u001b[39m\u001b[38;5;241m=\u001b[39m (\n\u001b[1;32m    502\u001b[0m             \u001b[38;5;124mf\u001b[39m\u001b[38;5;124m'\u001b[39m\u001b[38;5;124m Composite global and local scope enclosing this hint:\u001b[39m\u001b[38;5;130;01m\\n\u001b[39;00m\u001b[38;5;130;01m\\n\u001b[39;00m\u001b[38;5;124m'\u001b[39m\n\u001b[1;32m    503\u001b[0m             \u001b[38;5;124mf\u001b[39m\u001b[38;5;124m'\u001b[39m\u001b[38;5;132;01m{\u001b[39;00m\u001b[38;5;28mrepr\u001b[39m(bear_call\u001b[38;5;241m.\u001b[39mfunc_wrappee_scope_forward)\u001b[38;5;132;01m}\u001b[39;00m\u001b[38;5;124m'\u001b[39m\n\u001b[1;32m    504\u001b[0m         )\n\u001b[1;32m    505\u001b[0m     \u001b[38;5;66;03m# Else, the beartype configuration associated with the decorated\u001b[39;00m\n\u001b[1;32m    506\u001b[0m     \u001b[38;5;66;03m# callable disabled debugging. In this case, avoid appending\u001b[39;00m\n\u001b[1;32m    507\u001b[0m     \u001b[38;5;66;03m# debug-specific metadata to this message.\u001b[39;00m\n\u001b[1;32m    508\u001b[0m \n\u001b[1;32m    509\u001b[0m     \u001b[38;5;66;03m# Raise a human-readable exception wrapping the typically\u001b[39;00m\n\u001b[1;32m    510\u001b[0m     \u001b[38;5;66;03m# non-human-readable exception raised above.\u001b[39;00m\n\u001b[0;32m--> 511\u001b[0m     \u001b[38;5;28;01mraise\u001b[39;00m exception_cls(exception_message) \u001b[38;5;28;01mfrom\u001b[39;00m \u001b[38;5;21;01mexception\u001b[39;00m\n\u001b[1;32m    513\u001b[0m \u001b[38;5;66;03m# ..................{ RETURN                             }..................\u001b[39;00m\n\u001b[1;32m    514\u001b[0m \u001b[38;5;66;03m# Return this resolved hint.\u001b[39;00m\n\u001b[1;32m    515\u001b[0m \u001b[38;5;28;01mreturn\u001b[39;00m hint_resolved\n",
      "\u001b[0;31mBeartypeDecorHintForwardRefException\u001b[0m: Method jax_dataloader.loaders.jax.DataLoaderJAX.__init__() parameter \"dataset\" stringified type hint 'jdl.datasets.Dataset | hf_datasets.Dataset' syntactically invalid (i.e., TypeError(\"unsupported operand type(s) for |: 'type' and 'type'\"))."
     ]
    }
   ],
   "source": [
    "#| export\n",
    "from __future__ import print_function, division, annotations\n",
    "from jax_dataloader.imports import *\n",
    "from jax_dataloader.datasets import ArrayDataset\n",
    "from jax_dataloader.loaders import BaseDataLoader\n",
    "from jax_dataloader.utils import get_config, asnumpy\n",
    "from jax_dataloader.tests import *\n",
    "import jax_dataloader as jdl\n",
    "from threading import Thread, Event\n",
    "from queue import Queue"
   ]
  },
  {
   "cell_type": "code",
   "execution_count": null,
   "metadata": {},
   "outputs": [],
   "source": [
    "#| export\n",
    "def chunk(seq: Sequence, size: int) -> List[Sequence]:\n",
    "    return [seq[pos:pos + size] for pos in range(0, len(seq), size)]  \n"
   ]
  },
  {
   "cell_type": "code",
   "execution_count": null,
   "metadata": {},
   "outputs": [],
   "source": [
    "#| export\n",
    "def EpochIterator(\n",
    "    data,\n",
    "    batch_size: int,\n",
    "    indices: Sequence[int]\n",
    "):\n",
    "    for i in range(0, len(indices), batch_size):\n",
    "        idx = indices[i:i+batch_size]\n",
    "        yield data[idx]"
   ]
  },
  {
   "cell_type": "code",
   "execution_count": null,
   "metadata": {},
   "outputs": [],
   "source": [
    "#| export\n",
    "class MultiprocessIterator(Thread):\n",
    "    \"\"\"[WIP] Multiprocessing Epoch Iterator\"\"\"\n",
    "    \n",
    "    def __init__(self, data, batch_size: int, indices=None):\n",
    "        super().__init__()\n",
    "        self.data = data\n",
    "        indices = np.arange(len(data)) if indices is None else indices\n",
    "        batches = chunk(indices, batch_size)\n",
    "        self.iter_idx = iter(batches)\n",
    "        self.output_queue = Queue() # TODO: maxsize\n",
    "        self.terminate_event = Event()\n",
    "        self.start()\n",
    "\n",
    "    def run(self):\n",
    "        try:\n",
    "            while True:\n",
    "                result = self.get_data()\n",
    "                self.output_queue.put(result)\n",
    "        except StopIteration:\n",
    "            self.output_queue.put(None)\n",
    "\n",
    "    def __next__(self):\n",
    "        result = self.output_queue.get()\n",
    "        if result is None:\n",
    "            self.close()\n",
    "            raise StopIteration()\n",
    "        return result\n",
    "    \n",
    "    def __iter__(self):\n",
    "        return self\n",
    "    \n",
    "    def __del__(self):\n",
    "        self.close()\n",
    "\n",
    "    def close(self):\n",
    "        self.terminate_event.set()\n",
    "\n",
    "    def get_data(self):\n",
    "        batch_idx = next(self.iter_idx)\n",
    "        batch = self.data[batch_idx]\n",
    "        return batch\n"
   ]
  },
  {
   "cell_type": "code",
   "execution_count": null,
   "metadata": {},
   "outputs": [],
   "source": [
    "#| export\n",
    "class DataLoaderJAX(BaseDataLoader):\n",
    "\n",
    "    @typecheck\n",
    "    def __init__(\n",
    "        self, \n",
    "        dataset: Union[jdl.datasets.Dataset, hf_datasets.Dataset], \n",
    "        batch_size: int = 1,  # batch size\n",
    "        shuffle: bool = False,  # if true, dataloader shuffles before sampling each batch\n",
    "        num_workers: int = 0,  # how many subprocesses to use for data loading. Ignored.\n",
    "        drop_last: bool = False,\n",
    "        **kwargs\n",
    "    ):\n",
    "        self.key = jrand.PRNGKey(get_config().global_seed)\n",
    "        self.dataset = dataset\n",
    "        if isinstance(dataset, ArrayDataset):\n",
    "            self.dataset.asnumpy()\n",
    "        \n",
    "        self.indices = np.arange(len(dataset))\n",
    "        self.batch_size = batch_size\n",
    "        self.shuffle = shuffle\n",
    "        self.drop_last = drop_last\n",
    "    \n",
    "    def __iter__(self):\n",
    "        if self.shuffle:\n",
    "            self.indices = jrand.permutation(self.next_key(), self.indices).__array__()\n",
    "        \n",
    "        if self.drop_last:\n",
    "            self.indices = self.indices[:len(self.indices) - len(self.indices) % self.batch_size]\n",
    "        return EpochIterator(self.dataset, self.batch_size, self.indices)\n",
    "    \n",
    "    def next_key(self):\n",
    "        self.key, subkey = jrand.split(self.key)\n",
    "        return subkey\n",
    "    \n",
    "    def __len__(self):\n",
    "        return len(self.indices) // self.batch_size"
   ]
  },
  {
   "cell_type": "code",
   "execution_count": null,
   "metadata": {},
   "outputs": [],
   "source": [
    "samples = 1280\n",
    "batch_size = 12\n",
    "feats = np.arange(samples).repeat(10).reshape(samples, 10)\n",
    "labels = np.arange(samples).reshape(samples, 1)\n",
    "ds = ArrayDataset(feats, labels)"
   ]
  },
  {
   "cell_type": "code",
   "execution_count": null,
   "metadata": {},
   "outputs": [
    {
     "name": "stderr",
     "output_type": "stream",
     "text": [
      "An NVIDIA GPU may be present on this machine, but a CUDA-enabled jaxlib is not installed. Falling back to cpu.\n"
     ]
    }
   ],
   "source": [
    "test_dataloader(DataLoaderJAX, samples=20, batch_size=12)\n",
    "test_dataloader(DataLoaderJAX, samples=20, batch_size=10)\n",
    "test_dataloader(DataLoaderJAX, samples=11, batch_size=10)\n",
    "test_dataloader(DataLoaderJAX, samples=40, batch_size=12)"
   ]
  },
  {
   "cell_type": "code",
   "execution_count": null,
   "metadata": {},
   "outputs": [
    {
     "name": "stdout",
     "output_type": "stream",
     "text": [
      "311 ms ± 29.7 ms per loop (mean ± std. dev. of 3 runs, 5 loops each)\n"
     ]
    }
   ],
   "source": [
    "%%timeit -n 5 -r 3\n",
    "test_dataloader(DataLoaderJAX, samples=1280, batch_size=10)"
   ]
  }
 ],
 "metadata": {
  "kernelspec": {
   "display_name": "python3",
   "language": "python",
   "name": "python3"
  }
 },
 "nbformat": 4,
 "nbformat_minor": 2
}
