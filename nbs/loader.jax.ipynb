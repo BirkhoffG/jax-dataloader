{
 "cells": [
  {
   "cell_type": "markdown",
   "metadata": {},
   "source": [
    "# JAX Dataloader"
   ]
  },
  {
   "cell_type": "code",
   "execution_count": null,
   "metadata": {},
   "outputs": [],
   "source": [
    "#| default_exp jax.loaders"
   ]
  },
  {
   "cell_type": "code",
   "execution_count": null,
   "metadata": {},
   "outputs": [],
   "source": [
    "#| include: false\n",
    "%load_ext autoreload\n",
    "%autoreload 2\n",
    "from ipynb_path import *\n",
    "import warnings\n",
    "warnings.simplefilter(action='ignore', category=FutureWarning)"
   ]
  },
  {
   "cell_type": "code",
   "execution_count": null,
   "metadata": {},
   "outputs": [],
   "source": [
    "#| export\n",
    "from __future__ import print_function, division, annotations\n",
    "from jax_dataloader.imports import *\n",
    "from jax_dataloader.datasets import ArrayDataset\n",
    "from jax_dataloader.loaders import BaseDataLoader\n",
    "from jax_dataloader.utils import get_config\n",
    "from jax_dataloader.tests import *\n",
    "from threading import Thread, Event\n",
    "from queue import Queue"
   ]
  },
  {
   "cell_type": "code",
   "execution_count": null,
   "metadata": {},
   "outputs": [],
   "source": [
    "#| export\n",
    "def chunk(seq: Sequence, size: int):\n",
    "    for pos in range(0, len(seq), size):\n",
    "        yield seq[pos:pos + size]"
   ]
  },
  {
   "cell_type": "code",
   "execution_count": null,
   "metadata": {},
   "outputs": [],
   "source": [
    "#| export\n",
    "class EpochIterator(Thread):\n",
    "    def __init__(self, data, batch_size: int, indices=None):\n",
    "        super().__init__()\n",
    "        self.data = data\n",
    "        indices = np.arange(len(data)) if indices is None else indices\n",
    "        batches = chunk(indices, batch_size)\n",
    "        self.iter_idx = iter(batches)\n",
    "        # self.current_slot = 0\n",
    "        self.output_queue = Queue() # TODO: maxsize\n",
    "        self.terminate_event = Event()\n",
    "        self.start()\n",
    "\n",
    "    def run(self):\n",
    "        try:\n",
    "            while True:\n",
    "                result = self.get_data()\n",
    "                self.output_queue.put(result)\n",
    "                # self.current_slot += 1\n",
    "        except StopIteration:\n",
    "            self.output_queue.put(None)\n",
    "\n",
    "    def __next__(self):\n",
    "        result = self.output_queue.get()\n",
    "        if result is None:\n",
    "            self.close()\n",
    "            raise StopIteration()\n",
    "        return result\n",
    "    \n",
    "    def __iter__(self):\n",
    "        return self\n",
    "    \n",
    "    def __del__(self):\n",
    "        self.close()\n",
    "\n",
    "    def close(self):\n",
    "        self.terminate_event.set()\n",
    "\n",
    "    def get_data(self):\n",
    "        batch_idx = next(self.iter_idx)\n",
    "        batch = self.data[batch_idx]\n",
    "        return batch"
   ]
  },
  {
   "cell_type": "code",
   "execution_count": null,
   "metadata": {},
   "outputs": [],
   "source": [
    "class DataLoaderJAX(BaseDataLoader):\n",
    "    def __init__(\n",
    "        self, \n",
    "        dataset, \n",
    "        batch_size: int = 1,  # batch size\n",
    "        shuffle: bool = False,  # if true, dataloader shuffles before sampling each batch\n",
    "        num_workers: int = 0,  # how many subprocesses to use for data loading. Ignored.\n",
    "        drop_last: bool = False,\n",
    "        **kwargs\n",
    "    ):\n",
    "        self.key = jrand.PRNGKey(get_config().global_seed)\n",
    "        self.dataset = dataset\n",
    "        self.indices = np.arange(len(dataset))\n",
    "        self.batch_size = batch_size\n",
    "        self.shuffle = shuffle\n",
    "        self.drop_last = drop_last\n",
    "    \n",
    "    def __iter__(self):\n",
    "        if self.shuffle:\n",
    "            self.indices = jrand.permutation(self.next_key(), self.indices)\n",
    "\n",
    "        if self.drop_last:\n",
    "            self.indices = self.indices[:len(self.indices) - len(self.indices) % self.batch_size]\n",
    "        return EpochIterator(self.dataset, self.batch_size, self.indices)\n",
    "\n",
    "    def next_key(self):\n",
    "        self.key, subkey = jrand.split(self.key)\n",
    "        return subkey"
   ]
  },
  {
   "cell_type": "code",
   "execution_count": null,
   "metadata": {},
   "outputs": [],
   "source": [
    "samples = 1280\n",
    "feats = jnp.arange(samples).repeat(10).reshape(samples, 10)\n",
    "labels = jnp.arange(samples).reshape(samples, 1)\n",
    "ds = ArrayDataset(feats, labels)"
   ]
  },
  {
   "cell_type": "code",
   "execution_count": null,
   "metadata": {},
   "outputs": [],
   "source": [
    "dl = DataLoaderJAX(ds, batch_size=12, shuffle=True)\n",
    "for _ in range(8):\n",
    "    for i, batch in enumerate(dl):\n",
    "        i, batch[0].shape, batch[1].shape\n",
    "        # print(batch[0].shape, batch[1].shape)\n"
   ]
  },
  {
   "cell_type": "code",
   "execution_count": null,
   "metadata": {},
   "outputs": [],
   "source": [
    "from keras.trainers.epoch_iterator import EpochIterator"
   ]
  },
  {
   "cell_type": "code",
   "execution_count": null,
   "metadata": {},
   "outputs": [
    {
     "name": "stdout",
     "output_type": "stream",
     "text": [
      "[(array([[ 811,  811,  811,  811,  811,  811,  811,  811,  811,  811],\n",
      "       [1009, 1009, 1009, 1009, 1009, 1009, 1009, 1009, 1009, 1009],\n",
      "       [1179, 1179, 1179, 1179, 1179, 1179, 1179, 1179, 1179, 1179],\n",
      "       [ 542,  542,  542,  542,  542,  542,  542,  542,  542,  542],\n",
      "       [1124, 1124, 1124, 1124, 1124, 1124, 1124, 1124, 1124, 1124],\n",
      "       [ 647,  647,  647,  647,  647,  647,  647,  647,  647,  647],\n",
      "       [1248, 1248, 1248, 1248, 1248, 1248, 1248, 1248, 1248, 1248],\n",
      "       [ 153,  153,  153,  153,  153,  153,  153,  153,  153,  153],\n",
      "       [  23,   23,   23,   23,   23,   23,   23,   23,   23,   23],\n",
      "       [1099, 1099, 1099, 1099, 1099, 1099, 1099, 1099, 1099, 1099],\n",
      "       [1027, 1027, 1027, 1027, 1027, 1027, 1027, 1027, 1027, 1027],\n",
      "       [ 656,  656,  656,  656,  656,  656,  656,  656,  656,  656]],\n",
      "      dtype=int32), array([[ 811],\n",
      "       [1009],\n",
      "       [1179],\n",
      "       [ 542],\n",
      "       [1124],\n",
      "       [ 647],\n",
      "       [1248],\n",
      "       [ 153],\n",
      "       [  23],\n",
      "       [1099],\n",
      "       [1027],\n",
      "       [ 656]], dtype=int32))]\n",
      "[(array([[ 848,  848,  848,  848,  848,  848,  848,  848,  848,  848],\n",
      "       [ 483,  483,  483,  483,  483,  483,  483,  483,  483,  483],\n",
      "       [ 182,  182,  182,  182,  182,  182,  182,  182,  182,  182],\n",
      "       [ 176,  176,  176,  176,  176,  176,  176,  176,  176,  176],\n",
      "       [1168, 1168, 1168, 1168, 1168, 1168, 1168, 1168, 1168, 1168],\n",
      "       [ 782,  782,  782,  782,  782,  782,  782,  782,  782,  782],\n",
      "       [ 193,  193,  193,  193,  193,  193,  193,  193,  193,  193],\n",
      "       [ 139,  139,  139,  139,  139,  139,  139,  139,  139,  139],\n",
      "       [1229, 1229, 1229, 1229, 1229, 1229, 1229, 1229, 1229, 1229],\n",
      "       [ 894,  894,  894,  894,  894,  894,  894,  894,  894,  894],\n",
      "       [ 425,  425,  425,  425,  425,  425,  425,  425,  425,  425],\n",
      "       [ 967,  967,  967,  967,  967,  967,  967,  967,  967,  967]],\n",
      "      dtype=int32), array([[ 848],\n",
      "       [ 483],\n",
      "       [ 182],\n",
      "       [ 176],\n",
      "       [1168],\n",
      "       [ 782],\n",
      "       [ 193],\n",
      "       [ 139],\n",
      "       [1229],\n",
      "       [ 894],\n",
      "       [ 425],\n",
      "       [ 967]], dtype=int32))]\n",
      "[(array([[ 177,  177,  177,  177,  177,  177,  177,  177,  177,  177],\n",
      "       [ 739,  739,  739,  739,  739,  739,  739,  739,  739,  739],\n",
      "       [ 913,  913,  913,  913,  913,  913,  913,  913,  913,  913],\n",
      "       [ 126,  126,  126,  126,  126,  126,  126,  126,  126,  126],\n",
      "       [  16,   16,   16,   16,   16,   16,   16,   16,   16,   16],\n",
      "       [ 361,  361,  361,  361,  361,  361,  361,  361,  361,  361],\n",
      "       [ 276,  276,  276,  276,  276,  276,  276,  276,  276,  276],\n",
      "       [1251, 1251, 1251, 1251, 1251, 1251, 1251, 1251, 1251, 1251],\n",
      "       [  28,   28,   28,   28,   28,   28,   28,   28,   28,   28],\n",
      "       [ 641,  641,  641,  641,  641,  641,  641,  641,  641,  641],\n",
      "       [ 865,  865,  865,  865,  865,  865,  865,  865,  865,  865],\n",
      "       [1205, 1205, 1205, 1205, 1205, 1205, 1205, 1205, 1205, 1205]],\n",
      "      dtype=int32), array([[ 177],\n",
      "       [ 739],\n",
      "       [ 913],\n",
      "       [ 126],\n",
      "       [  16],\n",
      "       [ 361],\n",
      "       [ 276],\n",
      "       [1251],\n",
      "       [  28],\n",
      "       [ 641],\n",
      "       [ 865],\n",
      "       [1205]], dtype=int32))]\n",
      "[(array([[ 425,  425,  425,  425,  425,  425,  425,  425,  425,  425],\n",
      "       [ 328,  328,  328,  328,  328,  328,  328,  328,  328,  328],\n",
      "       [1112, 1112, 1112, 1112, 1112, 1112, 1112, 1112, 1112, 1112],\n",
      "       [ 727,  727,  727,  727,  727,  727,  727,  727,  727,  727],\n",
      "       [ 779,  779,  779,  779,  779,  779,  779,  779,  779,  779],\n",
      "       [ 433,  433,  433,  433,  433,  433,  433,  433,  433,  433],\n",
      "       [1157, 1157, 1157, 1157, 1157, 1157, 1157, 1157, 1157, 1157],\n",
      "       [1035, 1035, 1035, 1035, 1035, 1035, 1035, 1035, 1035, 1035],\n",
      "       [1260, 1260, 1260, 1260, 1260, 1260, 1260, 1260, 1260, 1260],\n",
      "       [ 372,  372,  372,  372,  372,  372,  372,  372,  372,  372],\n",
      "       [ 103,  103,  103,  103,  103,  103,  103,  103,  103,  103],\n",
      "       [ 479,  479,  479,  479,  479,  479,  479,  479,  479,  479]],\n",
      "      dtype=int32), array([[ 425],\n",
      "       [ 328],\n",
      "       [1112],\n",
      "       [ 727],\n",
      "       [ 779],\n",
      "       [ 433],\n",
      "       [1157],\n",
      "       [1035],\n",
      "       [1260],\n",
      "       [ 372],\n",
      "       [ 103],\n",
      "       [ 479]], dtype=int32))]\n",
      "[(array([[ 581,  581,  581,  581,  581,  581,  581,  581,  581,  581],\n",
      "       [ 577,  577,  577,  577,  577,  577,  577,  577,  577,  577],\n",
      "       [ 687,  687,  687,  687,  687,  687,  687,  687,  687,  687],\n",
      "       [ 983,  983,  983,  983,  983,  983,  983,  983,  983,  983],\n",
      "       [ 275,  275,  275,  275,  275,  275,  275,  275,  275,  275],\n",
      "       [1202, 1202, 1202, 1202, 1202, 1202, 1202, 1202, 1202, 1202],\n",
      "       [ 442,  442,  442,  442,  442,  442,  442,  442,  442,  442],\n",
      "       [ 775,  775,  775,  775,  775,  775,  775,  775,  775,  775],\n",
      "       [ 163,  163,  163,  163,  163,  163,  163,  163,  163,  163],\n",
      "       [1231, 1231, 1231, 1231, 1231, 1231, 1231, 1231, 1231, 1231],\n",
      "       [ 206,  206,  206,  206,  206,  206,  206,  206,  206,  206],\n",
      "       [ 404,  404,  404,  404,  404,  404,  404,  404,  404,  404]],\n",
      "      dtype=int32), array([[ 581],\n",
      "       [ 577],\n",
      "       [ 687],\n",
      "       [ 983],\n",
      "       [ 275],\n",
      "       [1202],\n",
      "       [ 442],\n",
      "       [ 775],\n",
      "       [ 163],\n",
      "       [1231],\n",
      "       [ 206],\n",
      "       [ 404]], dtype=int32))]\n",
      "[(array([[ 133,  133,  133,  133,  133,  133,  133,  133,  133,  133],\n",
      "       [ 219,  219,  219,  219,  219,  219,  219,  219,  219,  219],\n",
      "       [ 896,  896,  896,  896,  896,  896,  896,  896,  896,  896],\n",
      "       [ 806,  806,  806,  806,  806,  806,  806,  806,  806,  806],\n",
      "       [1076, 1076, 1076, 1076, 1076, 1076, 1076, 1076, 1076, 1076],\n",
      "       [ 695,  695,  695,  695,  695,  695,  695,  695,  695,  695],\n",
      "       [1193, 1193, 1193, 1193, 1193, 1193, 1193, 1193, 1193, 1193],\n",
      "       [ 922,  922,  922,  922,  922,  922,  922,  922,  922,  922],\n",
      "       [ 762,  762,  762,  762,  762,  762,  762,  762,  762,  762],\n",
      "       [1056, 1056, 1056, 1056, 1056, 1056, 1056, 1056, 1056, 1056],\n",
      "       [ 956,  956,  956,  956,  956,  956,  956,  956,  956,  956],\n",
      "       [ 509,  509,  509,  509,  509,  509,  509,  509,  509,  509]],\n",
      "      dtype=int32), array([[ 133],\n",
      "       [ 219],\n",
      "       [ 896],\n",
      "       [ 806],\n",
      "       [1076],\n",
      "       [ 695],\n",
      "       [1193],\n",
      "       [ 922],\n",
      "       [ 762],\n",
      "       [1056],\n",
      "       [ 956],\n",
      "       [ 509]], dtype=int32))]\n",
      "[(array([[ 238,  238,  238,  238,  238,  238,  238,  238,  238,  238],\n",
      "       [ 122,  122,  122,  122,  122,  122,  122,  122,  122,  122],\n",
      "       [ 968,  968,  968,  968,  968,  968,  968,  968,  968,  968],\n",
      "       [1240, 1240, 1240, 1240, 1240, 1240, 1240, 1240, 1240, 1240],\n",
      "       [  15,   15,   15,   15,   15,   15,   15,   15,   15,   15],\n",
      "       [ 667,  667,  667,  667,  667,  667,  667,  667,  667,  667],\n",
      "       [1194, 1194, 1194, 1194, 1194, 1194, 1194, 1194, 1194, 1194],\n",
      "       [ 161,  161,  161,  161,  161,  161,  161,  161,  161,  161],\n",
      "       [ 851,  851,  851,  851,  851,  851,  851,  851,  851,  851],\n",
      "       [ 293,  293,  293,  293,  293,  293,  293,  293,  293,  293],\n",
      "       [1098, 1098, 1098, 1098, 1098, 1098, 1098, 1098, 1098, 1098],\n",
      "       [ 966,  966,  966,  966,  966,  966,  966,  966,  966,  966]],\n",
      "      dtype=int32), array([[ 238],\n",
      "       [ 122],\n",
      "       [ 968],\n",
      "       [1240],\n",
      "       [  15],\n",
      "       [ 667],\n",
      "       [1194],\n",
      "       [ 161],\n",
      "       [ 851],\n",
      "       [ 293],\n",
      "       [1098],\n",
      "       [ 966]], dtype=int32))]\n",
      "[(array([[  59,   59,   59,   59,   59,   59,   59,   59,   59,   59],\n",
      "       [ 787,  787,  787,  787,  787,  787,  787,  787,  787,  787],\n",
      "       [ 750,  750,  750,  750,  750,  750,  750,  750,  750,  750],\n",
      "       [ 908,  908,  908,  908,  908,  908,  908,  908,  908,  908],\n",
      "       [ 466,  466,  466,  466,  466,  466,  466,  466,  466,  466],\n",
      "       [ 231,  231,  231,  231,  231,  231,  231,  231,  231,  231],\n",
      "       [  16,   16,   16,   16,   16,   16,   16,   16,   16,   16],\n",
      "       [ 305,  305,  305,  305,  305,  305,  305,  305,  305,  305],\n",
      "       [1035, 1035, 1035, 1035, 1035, 1035, 1035, 1035, 1035, 1035],\n",
      "       [1002, 1002, 1002, 1002, 1002, 1002, 1002, 1002, 1002, 1002],\n",
      "       [ 566,  566,  566,  566,  566,  566,  566,  566,  566,  566],\n",
      "       [   4,    4,    4,    4,    4,    4,    4,    4,    4,    4]],\n",
      "      dtype=int32), array([[  59],\n",
      "       [ 787],\n",
      "       [ 750],\n",
      "       [ 908],\n",
      "       [ 466],\n",
      "       [ 231],\n",
      "       [  16],\n",
      "       [ 305],\n",
      "       [1035],\n",
      "       [1002],\n",
      "       [ 566],\n",
      "       [   4]], dtype=int32))]\n"
     ]
    }
   ],
   "source": [
    "dl = EpochIterator(feats, labels, batch_size=12, shuffle=True)\n",
    "for _ in range(8):\n",
    "    for i, (batch) in dl.enumerate_epoch('np'):\n",
    "        print(batch)\n",
    "        break\n"
   ]
  },
  {
   "cell_type": "code",
   "execution_count": null,
   "metadata": {},
   "outputs": [],
   "source": [
    "test_dataloader(DataLoaderJAX, samples=20, batch_size=12)\n",
    "test_dataloader(DataLoaderJAX, samples=20, batch_size=10)\n",
    "test_dataloader(DataLoaderJAX, samples=11, batch_size=10)\n",
    "test_dataloader(DataLoaderJAX, samples=40, batch_size=12)"
   ]
  },
  {
   "cell_type": "code",
   "execution_count": null,
   "metadata": {},
   "outputs": [
    {
     "name": "stdout",
     "output_type": "stream",
     "text": [
      "1.64 s ± 35.8 ms per loop (mean ± std. dev. of 3 runs, 5 loops each)\n"
     ]
    }
   ],
   "source": [
    "%%timeit -n 5 -r 3\n",
    "test_dataloader(DataLoaderJAX, samples=1280, batch_size=10)"
   ]
  },
  {
   "cell_type": "code",
   "execution_count": null,
   "metadata": {},
   "outputs": [
    {
     "data": {
      "text/plain": [
       "31"
      ]
     },
     "execution_count": null,
     "metadata": {},
     "output_type": "execute_result"
    }
   ],
   "source": [
    "i"
   ]
  },
  {
   "cell_type": "code",
   "execution_count": null,
   "metadata": {},
   "outputs": [
    {
     "data": {
      "text/plain": [
       "31"
      ]
     },
     "execution_count": null,
     "metadata": {},
     "output_type": "execute_result"
    }
   ],
   "source": [
    "1000 // 32"
   ]
  }
 ],
 "metadata": {
  "kernelspec": {
   "display_name": "python3",
   "language": "python",
   "name": "python3"
  }
 },
 "nbformat": 4,
 "nbformat_minor": 2
}
