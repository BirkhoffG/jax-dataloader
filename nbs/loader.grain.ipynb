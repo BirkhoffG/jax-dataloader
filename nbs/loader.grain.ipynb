{
 "cells": [
  {
   "cell_type": "markdown",
   "metadata": {},
   "source": [
    "# Grain Dataloader"
   ]
  },
  {
   "cell_type": "code",
   "execution_count": null,
   "metadata": {},
   "outputs": [],
   "source": [
    "#| default_exp loaders.grain"
   ]
  },
  {
   "cell_type": "code",
   "execution_count": null,
   "metadata": {},
   "outputs": [],
   "source": [
    "#| include: false\n",
    "%load_ext autoreload\n",
    "%autoreload 2\n",
    "from ipynb_path import *\n",
    "import warnings\n",
    "warnings.simplefilter(action='ignore', category=FutureWarning)"
   ]
  },
  {
   "cell_type": "code",
   "execution_count": null,
   "metadata": {},
   "outputs": [],
   "source": [
    "#| export\n",
    "from __future__ import print_function, division, annotations\n",
    "from jax_dataloader.imports import *\n",
    "from jax_dataloader.datasets import ArrayDataset, JAXDataset\n",
    "from jax_dataloader.loaders import BaseDataLoader\n",
    "from jax_dataloader.utils import get_config\n",
    "from jax_dataloader.tests import *\n",
    "import jax_dataloader as jdl"
   ]
  },
  {
   "cell_type": "code",
   "execution_count": null,
   "metadata": {},
   "outputs": [],
   "source": [
    "#| export\n",
    "class DataLoaderGrain(BaseDataLoader):\n",
    "\n",
    "    # @typecheck\n",
    "    def __init__(\n",
    "        self, \n",
    "        dataset: Union[JAXDataset, TorchDataset, HFDataset],\n",
    "        batch_size: int = 1,  # Batch size\n",
    "        shuffle: bool = False,  # If true, dataloader shuffles before sampling each batch\n",
    "        num_workers: int = 0, # Number of workers to use\n",
    "        drop_last: bool = False, # Drop last batch or not\n",
    "        **kwargs\n",
    "    ):\n",
    "\n",
    "        sampler = grain.IndexSampler(\n",
    "            num_records=len(dataset),\n",
    "            shuffle=shuffle,\n",
    "            seed=get_config().global_seed,\n",
    "            shard_options=grain.NoSharding()\n",
    "        )\n",
    "        operations = (grain.Batch(batch_size, drop_remainder=drop_last),)\n",
    "        self.dataloader = grain.DataLoader(\n",
    "            data_source=dataset,\n",
    "            sampler=sampler,\n",
    "            operations=operations,\n",
    "            worker_count=num_workers\n",
    "        )\n",
    "\n",
    "    def __next__(self):\n",
    "        return next(self.dataloader)\n",
    "\n",
    "    def __iter__(self):\n",
    "        return self.dataloader.__iter__()"
   ]
  },
  {
   "cell_type": "code",
   "execution_count": null,
   "metadata": {},
   "outputs": [],
   "source": [
    "#| hide\n",
    "# test_dataloader(DataLoaderGrain, samples=20, batch_size=12, test_len=False)\n",
    "# test_dataloader(DataLoaderGrain, samples=20, batch_size=10, test_len=False)\n",
    "# test_dataloader(DataLoaderGrain, samples=11, batch_size=10, test_len=False)\n",
    "# test_dataloader(DataLoaderGrain, samples=40, batch_size=12, test_len=False)"
   ]
  }
 ],
 "metadata": {
  "kernelspec": {
   "display_name": "python3",
   "language": "python",
   "name": "python3"
  }
 },
 "nbformat": 4,
 "nbformat_minor": 2
}
