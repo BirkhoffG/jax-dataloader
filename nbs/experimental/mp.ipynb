{
 "cells": [
  {
   "cell_type": "code",
   "execution_count": null,
   "metadata": {},
   "outputs": [],
   "source": [
    "#| default_exp experimental.multi_processing"
   ]
  },
  {
   "cell_type": "code",
   "execution_count": null,
   "metadata": {},
   "outputs": [],
   "source": [
    "#| export\n",
    "from __future__ import print_function, division, annotations\n",
    "from jax_dataloader.imports import *\n",
    "from jax_dataloader.datasets import ArrayDataset, JAXDataset\n",
    "from jax_dataloader.loaders import BaseDataLoader\n",
    "from jax_dataloader.utils import get_config, asnumpy\n",
    "from jax_dataloader.tests import *\n",
    "import jax_dataloader as jdl\n",
    "from threading import Thread, Event\n",
    "from queue import Queue, Full\n",
    "import multiprocessing as mp\n",
    "import weakref"
   ]
  },
  {
   "cell_type": "code",
   "execution_count": null,
   "metadata": {},
   "outputs": [],
   "source": [
    "#| export\n",
    "def chunk(seq: Sequence, size: int) -> List[Sequence]:\n",
    "    return [seq[pos:pos + size] for pos in range(0, len(seq), size)]  \n"
   ]
  },
  {
   "cell_type": "code",
   "execution_count": null,
   "metadata": {},
   "outputs": [],
   "source": [
    "#| export\n",
    "class EpochIterator(Thread):\n",
    "    \"\"\"[WIP] Multiprocessing Epoch Iterator\"\"\"\n",
    "    \n",
    "    def __init__(self, data, batch_size: int, indices: Sequence[int]):\n",
    "        super().__init__()\n",
    "        self.data = data\n",
    "        batches = chunk(indices, batch_size)\n",
    "        self.iter_idx = iter(batches)\n",
    "        self.output_queue = Queue(5) # TODO: maxsize\n",
    "        self.terminate_event = Event()\n",
    "        self.start()\n",
    "\n",
    "    def run(self):\n",
    "        try:\n",
    "            while True:\n",
    "                # get data\n",
    "                result = self.get_data()\n",
    "                # put result in queue\n",
    "                while True:\n",
    "                    try: \n",
    "                        self.output_queue.put(result, block=True, timeout=0.5)\n",
    "                        break\n",
    "                    except Full: pass\n",
    "                \n",
    "                    if self.terminate_event.is_set(): return                \n",
    "\n",
    "        except StopIteration:\n",
    "            self.output_queue.put(None)\n",
    "\n",
    "    def __next__(self):\n",
    "        result = self.output_queue.get()\n",
    "        if result is None:\n",
    "            self.close()\n",
    "            raise StopIteration()\n",
    "        return result\n",
    "    \n",
    "    def __iter__(self):\n",
    "        return self\n",
    "    \n",
    "    def __del__(self):\n",
    "        self.close()\n",
    "\n",
    "    def close(self):\n",
    "        self.terminate_event.set()\n",
    "\n",
    "    def get_data(self):\n",
    "        batch_idx = next(self.iter_idx)\n",
    "        batch = self.data[batch_idx]\n",
    "        return batch\n"
   ]
  }
 ],
 "metadata": {},
 "nbformat": 4,
 "nbformat_minor": 2
}
