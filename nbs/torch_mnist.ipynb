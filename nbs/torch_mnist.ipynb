{
 "cells": [
  {
   "cell_type": "code",
   "execution_count": null,
   "metadata": {},
   "outputs": [],
   "source": [
    "from torchvision.datasets import FashionMNIST\n",
    "import jax_dataloader.core as jdl\n",
    "import haiku as hk\n",
    "import numpy as np\n",
    "import jax\n",
    "import jax.numpy as jnp\n",
    "import optax\n",
    "from functools import partial\n",
    "import time"
   ]
  },
  {
   "cell_type": "code",
   "execution_count": null,
   "metadata": {},
   "outputs": [],
   "source": [
    "class FlattenAndCast(object):\n",
    "  def __call__(self, pic):\n",
    "    return np.array(pic, dtype=float)"
   ]
  },
  {
   "cell_type": "code",
   "execution_count": null,
   "metadata": {},
   "outputs": [],
   "source": [
    "# TODO: Add normalization\n",
    "train_ds = FashionMNIST('/tmp/mnist/', download=True, transform=FlattenAndCast(), train=True)\n",
    "test_ds = FashionMNIST('/tmp/mnist/', download=True, transform=FlattenAndCast(), train=False)"
   ]
  },
  {
   "cell_type": "code",
   "execution_count": null,
   "metadata": {},
   "outputs": [],
   "source": [
    "def net_fn(imgs: jnp.ndarray):\n",
    "    B, H, W = imgs.shape\n",
    "    imgs = imgs.reshape(B, H, W, 1)\n",
    "    x = imgs.astype(jnp.float32) / 255.\n",
    "    cov = hk.Sequential([\n",
    "        hk.Conv2D(32, 3, 2),\n",
    "        jax.nn.relu,\n",
    "        hk.Conv2D(64, 3, 2),\n",
    "        jax.nn.relu,\n",
    "        hk.Conv2D(128, 3, 2),\n",
    "        jax.nn.relu,\n",
    "        hk.Flatten(),\n",
    "        hk.Linear(256),\n",
    "        jax.nn.relu,\n",
    "        hk.Linear(10),\n",
    "    ])\n",
    "    return cov(x)\n",
    "\n",
    "    # mlp = hk.Sequential([\n",
    "    #     hk.Flatten(),\n",
    "    #     hk.Linear(512),\n",
    "    #     jax.nn.relu,\n",
    "    #     hk.Linear(256),\n",
    "    #     jax.nn.relu,\n",
    "    #     hk.Linear(10),\n",
    "    # ])\n",
    "    # return mlp(x)"
   ]
  },
  {
   "cell_type": "code",
   "execution_count": null,
   "metadata": {},
   "outputs": [],
   "source": [
    "def loss(\n",
    "    params: hk.Params, \n",
    "    classifier: hk.Transformed, \n",
    "    imgs: jnp.ndarray, \n",
    "    labels: jnp.ndarray\n",
    "):\n",
    "    logits = classifier.apply(params, imgs)\n",
    "    # return jnp.mean(jax.nn.softmax_cross_entropy_with_logits(logits, labels))\n",
    "    return jnp.mean(jax.vmap(optax.softmax_cross_entropy_with_integer_labels)(logits, labels=labels))"
   ]
  },
  {
   "cell_type": "code",
   "execution_count": null,
   "metadata": {},
   "outputs": [
    {
     "name": "stderr",
     "output_type": "stream",
     "text": [
      "WARNING:jax._src.lib.xla_bridge:No GPU/TPU found, falling back to CPU. (Set TF_CPP_MIN_LOG_LEVEL=0 and rerun for more info.)\n"
     ]
    }
   ],
   "source": [
    "# TODO: Jax dataloader does not work\n",
    "train_dl = jdl.DataLoader(train_ds, 'pytorch', batch_size=128, shuffle=True)\n",
    "# test_dl = jdl.DataLoader(test_ds, 'jax', batch_size=32, shuffle=False)\n",
    "\n",
    "classifier = hk.without_apply_rng(hk.transform(net_fn))\n",
    "opt = optax.adam(1e-3)\n",
    "img, label = next(iter(train_dl))\n",
    "params = classifier.init(jax.random.PRNGKey(42), jnp.ones((32, 28, 28)))\n",
    "opt_state = opt.init(params)"
   ]
  },
  {
   "cell_type": "code",
   "execution_count": null,
   "metadata": {},
   "outputs": [],
   "source": [
    "@jax.jit\n",
    "def update(\n",
    "    params: hk.Params,\n",
    "    opt_state: optax.OptState,\n",
    "    # classifier: hk.Transformed,\n",
    "    # opt: optax.GradientTransformation,\n",
    "    imgs: jnp.ndarray,\n",
    "    labels: jnp.ndarray\n",
    "):\n",
    "    grads = jax.grad(loss)(params, classifier, imgs, labels)\n",
    "    updates, opt_state = opt.update(grads, opt_state)\n",
    "    params = optax.apply_updates(params, updates)\n",
    "    return params, opt_state"
   ]
  },
  {
   "cell_type": "code",
   "execution_count": null,
   "metadata": {},
   "outputs": [
    {
     "name": "stdout",
     "output_type": "stream",
     "text": [
      "Epoch 0 took  12.626 seconds\n",
      "Per batch:  0.027 seconds\n"
     ]
    }
   ],
   "source": [
    "for i in range(1):\n",
    "    start_time = time.time()\n",
    "    for img, label in train_dl:\n",
    "        params, opt_state = update(params, opt_state, img, label)\n",
    "    epoch_time = time.time() - start_time\n",
    "    print(f'Epoch {i} took {epoch_time: .3f} seconds')\n",
    "    print(f'Per batch: {epoch_time / len(train_dl): .3f} seconds')"
   ]
  }
 ],
 "metadata": {
  "kernelspec": {
   "display_name": "python3",
   "language": "python",
   "name": "python3"
  }
 },
 "nbformat": 4,
 "nbformat_minor": 2
}
