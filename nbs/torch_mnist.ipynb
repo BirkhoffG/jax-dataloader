{
 "cells": [
  {
   "cell_type": "code",
   "execution_count": null,
   "metadata": {},
   "outputs": [],
   "source": [
    "from ipynb_path import *"
   ]
  },
  {
   "cell_type": "code",
   "execution_count": null,
   "metadata": {},
   "outputs": [],
   "source": [
    "from torchvision.datasets import FashionMNIST\n",
    "import jax_dataloader as jdl\n",
    "import haiku as hk\n",
    "import numpy as np\n",
    "import jax\n",
    "import jax.numpy as jnp\n",
    "import optax\n",
    "from functools import partial\n",
    "import time\n",
    "from datasets import load_dataset\n",
    "from torch.utils.data import DataLoader"
   ]
  },
  {
   "cell_type": "code",
   "execution_count": null,
   "metadata": {},
   "outputs": [],
   "source": [
    "class FlattenAndCast(object):\n",
    "  def __call__(self, pic):\n",
    "    return np.array(pic, dtype=float)"
   ]
  },
  {
   "cell_type": "code",
   "execution_count": null,
   "metadata": {},
   "outputs": [
    {
     "name": "stderr",
     "output_type": "stream",
     "text": [
      "WARNING:datasets.builder:Found cached dataset fashion_mnist (/home/birk/.cache/huggingface/datasets/fashion_mnist/fashion_mnist/1.0.0/8d6c32399aa01613d96e2cbc9b13638f359ef62bb33612b077b4c247f6ef99c1)\n",
      "WARNING:datasets.builder:Found cached dataset fashion_mnist (/home/birk/.cache/huggingface/datasets/fashion_mnist/fashion_mnist/1.0.0/8d6c32399aa01613d96e2cbc9b13638f359ef62bb33612b077b4c247f6ef99c1)\n"
     ]
    }
   ],
   "source": [
    "train_ds_torch = FashionMNIST(\n",
    "    '/tmp/mnist/', download=True, transform=FlattenAndCast(), train=True)\n",
    "test_ds_torch = FashionMNIST(\n",
    "    '/tmp/mnist/', download=True, transform=FlattenAndCast(), train=False)\n",
    "\n",
    "train_ds_jax = jdl.ArrayDataset(\n",
    "    train_ds_torch.data.numpy(), train_ds_torch.targets.numpy())\n",
    "test_ds_jax = jdl.ArrayDataset(\n",
    "    test_ds_torch.data.numpy(), test_ds_torch.targets.numpy())\n",
    "\n",
    "train_ds_hf = load_dataset('fashion_mnist', split='train')\n",
    "test_ds_hf = load_dataset('fashion_mnist', split='test')"
   ]
  },
  {
   "cell_type": "code",
   "execution_count": null,
   "metadata": {},
   "outputs": [],
   "source": [
    "def net_fn(imgs: jnp.ndarray):\n",
    "    B, H, W = imgs.shape\n",
    "    imgs = imgs.reshape(B, H, W, 1)\n",
    "    x = imgs.astype(jnp.float32) / 255.\n",
    "    cov = hk.Sequential([\n",
    "        hk.Conv2D(32, 3, 2),\n",
    "        jax.nn.relu,\n",
    "        hk.Conv2D(64, 3, 2),\n",
    "        jax.nn.relu,\n",
    "        hk.Conv2D(128, 3, 2),\n",
    "        jax.nn.relu,\n",
    "        hk.Flatten(),\n",
    "        hk.Linear(256),\n",
    "        jax.nn.relu,\n",
    "        hk.Linear(10),\n",
    "    ])\n",
    "    return cov(x)\n",
    "\n",
    "\n",
    "optax_cross_entropy = optax.softmax_cross_entropy_with_integer_labels\n",
    "\n",
    "def loss(\n",
    "    params: hk.Params, \n",
    "    classifier: hk.Transformed, \n",
    "    imgs: jnp.ndarray, \n",
    "    labels: jnp.ndarray\n",
    "):\n",
    "    logits = classifier.apply(params, imgs)\n",
    "    return jnp.mean(jax.vmap(optax_cross_entropy)(logits, labels=labels))"
   ]
  },
  {
   "cell_type": "code",
   "execution_count": null,
   "metadata": {},
   "outputs": [],
   "source": [
    "def init():\n",
    "    classifier = hk.without_apply_rng(hk.transform(net_fn))\n",
    "    opt = optax.adam(1e-3)\n",
    "    params = classifier.init(jax.random.PRNGKey(42), jnp.ones((32, 28, 28)))\n",
    "    opt_state = opt.init(params)\n",
    "    return classifier, opt, params, opt_state"
   ]
  },
  {
   "cell_type": "code",
   "execution_count": null,
   "metadata": {},
   "outputs": [],
   "source": [
    "# @jax.jit\n",
    "@partial(jax.jit, static_argnums=(2,3))\n",
    "def update(\n",
    "    params: hk.Params,\n",
    "    opt_state: optax.OptState,\n",
    "    classifier: hk.Transformed,\n",
    "    opt: optax.GradientTransformation,\n",
    "    imgs: jnp.ndarray,\n",
    "    labels: jnp.ndarray\n",
    "):\n",
    "    grads = jax.grad(loss)(params, classifier, imgs, labels)\n",
    "    updates, opt_state = opt.update(grads, opt_state)\n",
    "    params = optax.apply_updates(params, updates)\n",
    "    return params, opt_state"
   ]
  },
  {
   "cell_type": "code",
   "execution_count": null,
   "metadata": {},
   "outputs": [],
   "source": [
    "def _numpy_collate(batch):\n",
    "    if isinstance(batch[0], (np.ndarray, jax.Array)):\n",
    "        return np.stack(batch)\n",
    "    elif isinstance(batch[0], (tuple, list)):\n",
    "        transposed = zip(*batch)\n",
    "        return [_numpy_collate(samples) for samples in transposed]\n",
    "    elif isinstance(batch[0], dict):\n",
    "        return {key: _numpy_collate([d[key] for d in batch]) for key in batch[0]}\n",
    "    else:\n",
    "        return np.array(batch)\n"
   ]
  },
  {
   "cell_type": "code",
   "execution_count": null,
   "metadata": {},
   "outputs": [],
   "source": [
    "def get_img_labels(batch):\n",
    "    if isinstance(batch, tuple) or isinstance(batch, list):\n",
    "        # print(batch[0])\n",
    "        if isinstance(batch[0], dict):\n",
    "            imgs, labels = batch[0]['image'], batch[0]['label']\n",
    "        else:\n",
    "            imgs, labels = batch\n",
    "    elif isinstance(batch, dict):\n",
    "        imgs, labels = batch['image'], batch['label']\n",
    "    else:\n",
    "        raise ValueError(f'Unknown batch type: {type(batch)}', )\n",
    "    return imgs, labels\n",
    "\n",
    "def train(\n",
    "    train_ds,\n",
    "    backend: str,\n",
    "    batch_size: int,\n",
    "    shuffle: bool = True,\n",
    "    n_epochs: int = 1\n",
    "):\n",
    "    train_dl = jdl.DataLoader(\n",
    "        train_ds, backend=backend, batch_size=batch_size, shuffle=shuffle)\n",
    "    imgs_list= []\n",
    "    classifier, opt, params, opt_state = init()\n",
    "    \n",
    "    train_start_time = time.time()\n",
    "    for i in range(n_epochs):\n",
    "        epoch_start_time = time.time()\n",
    "        for batch in train_dl:\n",
    "            imgs, labels = get_img_labels(batch)\n",
    "\n",
    "            params, opt_state = update(\n",
    "                params, opt_state, classifier, opt, imgs, labels)\n",
    "            imgs_list.append(imgs)\n",
    "        \n",
    "        epoch_time = time.time() - epoch_start_time\n",
    "        print(f'Epoch {i} took {epoch_time: .3f} seconds')\n",
    "        print(f'Per batch: {epoch_time / len(train_dl): .3f} seconds')\n",
    "    \n",
    "    train_time = time.time() - train_start_time\n",
    "    print(f'Training took {train_time: .3f} seconds')\n",
    "\n",
    "    imgs_list = jnp.concatenate(imgs_list)\n",
    "    assert imgs_list.shape == (len(train_ds), 28, 28)\n",
    "    return train_time"
   ]
  },
  {
   "cell_type": "code",
   "execution_count": null,
   "metadata": {},
   "outputs": [
    {
     "name": "stdout",
     "output_type": "stream",
     "text": [
      "Epoch 0 took  10.049 seconds\n",
      "Per batch:  0.021 seconds\n",
      "Training took  10.050 seconds\n",
      "(60000, 28, 28)\n"
     ]
    },
    {
     "data": {
      "text/plain": [
       "10.049551725387573"
      ]
     },
     "execution_count": null,
     "metadata": {},
     "output_type": "execute_result"
    }
   ],
   "source": [
    "# train(train_ds_torch, 'pytorch', 128)\n",
    "train(train_ds_jax, 'jax', 128)\n",
    "# train(train_ds_jax, 'pytorch', 128)\n",
    "# train(train_ds_hf, 'jax', 128)\n",
    "# train(train_ds_hf.with_format('jax'), 'pytorch', 128)\n"
   ]
  }
 ],
 "metadata": {
  "kernelspec": {
   "display_name": "python3",
   "language": "python",
   "name": "python3"
  }
 },
 "nbformat": 4,
 "nbformat_minor": 2
}
