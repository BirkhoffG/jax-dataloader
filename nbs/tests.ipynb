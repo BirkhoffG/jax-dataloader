{
 "cells": [
  {
   "cell_type": "code",
   "execution_count": null,
   "metadata": {},
   "outputs": [],
   "source": [
    "#| default_exp tests"
   ]
  },
  {
   "cell_type": "code",
   "execution_count": null,
   "metadata": {},
   "outputs": [],
   "source": [
    "#| include: false\n",
    "%load_ext autoreload\n",
    "%autoreload 2\n",
    "from ipynb_path import *\n",
    "import warnings\n",
    "warnings.simplefilter(action='ignore', category=FutureWarning)"
   ]
  },
  {
   "cell_type": "code",
   "execution_count": null,
   "metadata": {},
   "outputs": [],
   "source": [
    "#| export\n",
    "from __future__ import print_function, division, annotations\n",
    "from jax_dataloader.imports import *\n",
    "from jax_dataloader.datasets import ArrayDataset"
   ]
  },
  {
   "cell_type": "code",
   "execution_count": null,
   "metadata": {},
   "outputs": [],
   "source": [
    "def get_batch(batch):\n",
    "    if isinstance(batch, dict):\n",
    "        return batch['feats'], batch['labels']\n",
    "    else:\n",
    "        return batch"
   ]
  },
  {
   "cell_type": "code",
   "execution_count": null,
   "metadata": {},
   "outputs": [],
   "source": [
    "#| exporti\n",
    "def test_no_shuffle(cls, ds, batch_size: int, feats, labels):\n",
    "    dl = cls(ds, batch_size=batch_size, shuffle=False)\n",
    "    for _ in range(2):\n",
    "        X_list, Y_list = [], []\n",
    "        for batch in dl:\n",
    "            x, y = get_batch(batch)\n",
    "            X_list.append(x)\n",
    "            Y_list.append(y)\n",
    "        _X, _Y = map(jnp.concatenate, (X_list, Y_list))\n",
    "        assert jnp.array_equal(_X, feats)\n",
    "        assert jnp.array_equal(_Y, labels)"
   ]
  },
  {
   "cell_type": "code",
   "execution_count": null,
   "metadata": {},
   "outputs": [],
   "source": [
    "#| exporti\n",
    "def test_no_shuffle_drop_last(cls, ds, batch_size: int, feats, labels):\n",
    "    dl = cls(ds, batch_size=batch_size, shuffle=False, drop_last=True)\n",
    "    for _ in range(2):\n",
    "        X_list, Y_list = [], []\n",
    "        for batch in dl:\n",
    "            x, y = get_batch(batch)\n",
    "            X_list.append(x)\n",
    "            Y_list.append(y)\n",
    "        _X, _Y = map(jnp.concatenate, (X_list, Y_list))\n",
    "        last_idx = len(X_list) * batch_size\n",
    "        assert jnp.array_equal(_X, feats[: last_idx])\n",
    "        assert jnp.array_equal(_Y, labels[: last_idx])"
   ]
  },
  {
   "cell_type": "code",
   "execution_count": null,
   "metadata": {},
   "outputs": [],
   "source": [
    "#| exporti\n",
    "def test_shuffle(cls, ds, batch_size: int, feats, labels):\n",
    "    dl = cls(ds, batch_size=batch_size, shuffle=True, drop_last=False)\n",
    "    last_X, last_Y = jnp.array([]), jnp.array([])\n",
    "    for _ in range(2):\n",
    "        X_list, Y_list = [], []\n",
    "        for batch in dl:\n",
    "            x, y = get_batch(batch)\n",
    "            assert jnp.array_equal(x[:, :1], y)\n",
    "            X_list.append(x)\n",
    "            Y_list.append(y)\n",
    "        _X, _Y = map(jnp.concatenate, (X_list, Y_list))\n",
    "        assert not jnp.array_equal(_X, feats)\n",
    "        assert not jnp.array_equal(_Y, labels)\n",
    "        assert jnp.sum(_X) == jnp.sum(feats), \\\n",
    "            f\"jnp.sum(_X)={jnp.sum(_X)}, jnp.sum(feats)={jnp.sum(feats)}\"\n",
    "        assert not jnp.array_equal(_X, last_X)\n",
    "        assert not jnp.array_equal(_Y, last_Y)\n",
    "        last_X, last_Y = _X, _Y"
   ]
  },
  {
   "cell_type": "code",
   "execution_count": null,
   "metadata": {},
   "outputs": [],
   "source": [
    "#| exporti\n",
    "def test_shuffle_drop_last(cls, ds, batch_size: int, feats, labels):\n",
    "    dl = cls(ds, batch_size=batch_size, shuffle=True, drop_last=True)\n",
    "    for _ in range(2):\n",
    "        X_list, Y_list = [], []\n",
    "        for batch in dl:\n",
    "            x, y = get_batch(batch)\n",
    "            assert jnp.array_equal(x[:, :1], y)\n",
    "            X_list.append(x)\n",
    "            Y_list.append(y)\n",
    "        _X, _Y = map(jnp.concatenate, (X_list, Y_list))\n",
    "        assert not jnp.array_equal(_X, feats)\n",
    "        assert not jnp.array_equal(_Y, labels)\n",
    "        assert len(_X) == len(X_list) * batch_size"
   ]
  },
  {
   "cell_type": "code",
   "execution_count": null,
   "metadata": {},
   "outputs": [],
   "source": [
    "#| export\n",
    "def test_dataloader(cls, ds_type='jax', samples=1000, batch_size=12):\n",
    "    feats = np.arange(samples).repeat(10).reshape(samples, 10)\n",
    "    labels = np.arange(samples).reshape(samples, 1)\n",
    "\n",
    "    if ds_type == 'jax':\n",
    "        ds = ArrayDataset(feats, labels)\n",
    "    elif ds_type == 'torch':\n",
    "        ds = torch.utils.data.TensorDataset(\n",
    "            torch.from_numpy(feats), torch.from_numpy(labels))\n",
    "    elif ds_type == 'tf':\n",
    "        ds = tf.data.Dataset.from_tensor_slices((feats, labels))\n",
    "    elif ds_type == \"hf\":\n",
    "        ds = hf_datasets.Dataset.from_dict({\"feats\": feats, \"labels\": labels})\n",
    "    else:\n",
    "        raise ValueError(f\"Unknown ds_type: {ds_type}\")\n",
    "    \n",
    "    test_no_shuffle(cls, ds, batch_size, feats, labels)\n",
    "    test_no_shuffle_drop_last(cls, ds, batch_size, feats, labels)\n",
    "    test_shuffle(cls, ds, batch_size, feats, labels)\n",
    "    test_shuffle_drop_last(cls, ds, batch_size, feats, labels)"
   ]
  },
  {
   "cell_type": "code",
   "execution_count": null,
   "metadata": {},
   "outputs": [],
   "source": [
    "from jax_dataloader.loaders import DataLoaderJAX"
   ]
  },
  {
   "cell_type": "code",
   "execution_count": null,
   "metadata": {},
   "outputs": [],
   "source": [
    "test_dataloader(DataLoaderJAX, ds_type='jax')"
   ]
  },
  {
   "cell_type": "code",
   "execution_count": null,
   "metadata": {},
   "outputs": [],
   "source": [
    "# def test_dataloader(dataloader_cls, samples=1000, batch_size=12):\n",
    "#     feats = jnp.arange(samples).repeat(10).reshape(samples, 10)\n",
    "#     labels = jnp.arange(samples).reshape(samples, 1)\n",
    "#     ds = ArrayDataset(feats, labels)\n",
    "#     # N % batchsize != 0\n",
    "#     dl = dataloader_cls(ds, batch_size=batch_size, shuffle=False)\n",
    "#     for _ in range(2):\n",
    "#         X_list, Y_list = [], []\n",
    "#         for x, y in dl:\n",
    "#             X_list.append(x)\n",
    "#             Y_list.append(y)\n",
    "#         _X, _Y = map(jnp.concatenate, (X_list, Y_list))\n",
    "#         assert jnp.array_equal(_X, feats)\n",
    "#         assert jnp.array_equal(_Y, labels)\n",
    "\n",
    "#     dl = dataloader_cls(ds, batch_size=batch_size, shuffle=False, drop_last=True)\n",
    "#     for _ in range(2):\n",
    "#         X_list, Y_list = [], []\n",
    "#         for x, y in dl:\n",
    "#             X_list.append(x)\n",
    "#             Y_list.append(y)\n",
    "#         _X, _Y = map(jnp.concatenate, (X_list, Y_list))\n",
    "#         last_idx = len(X_list) * batch_size\n",
    "#         assert jnp.array_equal(_X, feats[: last_idx])\n",
    "#         assert jnp.array_equal(_Y, labels[: last_idx])\n",
    "\n",
    "\n",
    "#     dl_shuffle = dataloader_cls(ds, batch_size=batch_size, shuffle=True, drop_last=False)\n",
    "#     last_X, last_Y = jnp.array([]), jnp.array([])\n",
    "#     for _ in range(2):\n",
    "#         X_list, Y_list = [], []\n",
    "#         for x, y in dl_shuffle:\n",
    "#             assert jnp.array_equal(x[:, :1], y)\n",
    "#             X_list.append(x)\n",
    "#             Y_list.append(y)\n",
    "#         _X, _Y = map(jnp.concatenate, (X_list, Y_list))\n",
    "#         assert not jnp.array_equal(_X, feats)\n",
    "#         assert not jnp.array_equal(_Y, labels)\n",
    "#         assert jnp.sum(_X) == jnp.sum(feats), \\\n",
    "#             f\"jnp.sum(_X)={jnp.sum(_X)}, jnp.sum(feats)={jnp.sum(feats)}\"\n",
    "#         assert not jnp.array_equal(_X, last_X)\n",
    "#         assert not jnp.array_equal(_Y, last_Y)\n",
    "#         last_X, last_Y = _X, _Y\n",
    "\n",
    "\n",
    "#     dl_shuffle = dataloader_cls(ds, batch_size=batch_size, shuffle=True, drop_last=True)\n",
    "#     for _ in range(2):\n",
    "#         X_list, Y_list = [], []\n",
    "#         for x, y in dl_shuffle:\n",
    "#             assert jnp.array_equal(x[:, :1], y)\n",
    "#             X_list.append(x)\n",
    "#             Y_list.append(y)\n",
    "#         _X, _Y = map(jnp.concatenate, (X_list, Y_list))\n",
    "#         assert not jnp.array_equal(_X, feats)\n",
    "#         assert not jnp.array_equal(_Y, labels)\n",
    "#         assert len(_X) == len(X_list) * batch_size"
   ]
  }
 ],
 "metadata": {
  "kernelspec": {
   "display_name": "python3",
   "language": "python",
   "name": "python3"
  }
 },
 "nbformat": 4,
 "nbformat_minor": 2
}
