{
 "cells": [
  {
   "attachments": {},
   "cell_type": "markdown",
   "metadata": {},
   "source": [
    "## Loaders"
   ]
  },
  {
   "cell_type": "code",
   "execution_count": null,
   "metadata": {},
   "outputs": [],
   "source": [
    "#| default_exp loaders"
   ]
  },
  {
   "cell_type": "code",
   "execution_count": null,
   "metadata": {},
   "outputs": [
    {
     "name": "stdout",
     "output_type": "stream",
     "text": [
      "The autoreload extension is already loaded. To reload it, use:\n",
      "  %reload_ext autoreload\n"
     ]
    }
   ],
   "source": [
    "#| include: false\n",
    "%load_ext autoreload\n",
    "%autoreload 2\n",
    "from ipynb_path import *\n",
    "from nbdev import show_doc\n",
    "import warnings\n",
    "warnings.simplefilter(action='ignore', category=FutureWarning)"
   ]
  },
  {
   "cell_type": "code",
   "execution_count": null,
   "metadata": {},
   "outputs": [],
   "source": [
    "#| export\n",
    "from __future__ import print_function, division, annotations\n",
    "from jax_dataloader.imports import *\n",
    "from jax_dataloader.utils import *\n",
    "from jax_dataloader.datasets import *"
   ]
  },
  {
   "cell_type": "code",
   "execution_count": null,
   "metadata": {},
   "outputs": [],
   "source": [
    "#| hide\n",
    "def test_dataloader(dataloader_cls, samples=1000, batch_size=12):\n",
    "    feats = jnp.arange(samples).repeat(10).reshape(samples, 10)\n",
    "    labels = jnp.arange(samples).reshape(samples, 1)\n",
    "    ds = ArrayDataset(feats, labels)\n",
    "    # N % batchsize != 0\n",
    "    dl = dataloader_cls(ds, batch_size=batch_size, shuffle=False)\n",
    "    for _ in range(2):\n",
    "        X_list, Y_list = [], []\n",
    "        for x, y in dl:\n",
    "            X_list.append(x)\n",
    "            Y_list.append(y)\n",
    "        _X, _Y = map(jnp.concatenate, (X_list, Y_list))\n",
    "        assert jnp.array_equal(_X, feats)\n",
    "        assert jnp.array_equal(_Y, labels)\n",
    "\n",
    "    dl = dataloader_cls(ds, batch_size=batch_size, shuffle=False, drop_last=True)\n",
    "    for _ in range(2):\n",
    "        X_list, Y_list = [], []\n",
    "        for x, y in dl:\n",
    "            X_list.append(x)\n",
    "            Y_list.append(y)\n",
    "        _X, _Y = map(jnp.concatenate, (X_list, Y_list))\n",
    "        last_idx = len(X_list) * batch_size\n",
    "        assert jnp.array_equal(_X, feats[: last_idx])\n",
    "        assert jnp.array_equal(_Y, labels[: last_idx])\n",
    "\n",
    "\n",
    "    dl_shuffle = dataloader_cls(ds, batch_size=batch_size, shuffle=True, drop_last=False)\n",
    "    for _ in range(2):\n",
    "        X_list, Y_list = [], []\n",
    "        for x, y in dl_shuffle:\n",
    "            assert jnp.array_equal(x[:, :1], y)\n",
    "            X_list.append(x)\n",
    "            Y_list.append(y)\n",
    "        _X, _Y = map(jnp.concatenate, (X_list, Y_list))\n",
    "        assert not jnp.array_equal(_X, feats)\n",
    "        assert not jnp.array_equal(_Y, labels)\n",
    "        assert jnp.sum(_X) == jnp.sum(feats), \\\n",
    "            f\"jnp.sum(_X)={jnp.sum(_X)}, jnp.sum(feats)={jnp.sum(feats)}\"\n",
    "\n",
    "\n",
    "    dl_shuffle = dataloader_cls(ds, batch_size=batch_size, shuffle=True, drop_last=True)\n",
    "    for _ in range(2):\n",
    "        X_list, Y_list = [], []\n",
    "        for x, y in dl_shuffle:\n",
    "            assert jnp.array_equal(x[:, :1], y)\n",
    "            X_list.append(x)\n",
    "            Y_list.append(y)\n",
    "        _X, _Y = map(jnp.concatenate, (X_list, Y_list))\n",
    "        assert not jnp.array_equal(_X, feats)\n",
    "        assert not jnp.array_equal(_Y, labels)\n",
    "        assert len(_X) == len(X_list) * batch_size\n"
   ]
  },
  {
   "cell_type": "code",
   "execution_count": null,
   "metadata": {},
   "outputs": [],
   "source": [
    "#| export\n",
    "class BaseDataLoader:\n",
    "    \"\"\"Dataloader Interface\"\"\"\n",
    "    \n",
    "    def __init__(\n",
    "        self, \n",
    "        dataset: Dataset, \n",
    "        batch_size: int = 1,  # batch size\n",
    "        shuffle: bool = False,  # if true, dataloader shuffles before sampling each batch\n",
    "        drop_last: bool = False,\n",
    "        **kwargs\n",
    "    ):\n",
    "        pass\n",
    "\n",
    "    def __len__(self):\n",
    "        raise NotImplementedError\n",
    "    \n",
    "    def __next__(self):\n",
    "        raise NotImplementedError\n",
    "    \n",
    "    def __iter__(self):\n",
    "        raise NotImplementedError"
   ]
  },
  {
   "attachments": {},
   "cell_type": "markdown",
   "metadata": {},
   "source": [
    "## JAX Dataloader\n"
   ]
  },
  {
   "cell_type": "code",
   "execution_count": null,
   "metadata": {},
   "outputs": [],
   "source": [
    "#| export\n",
    "class DataLoaderJax(BaseDataLoader):\n",
    "    \"\"\"Dataloder in Vanilla Jax\"\"\"\n",
    "\n",
    "    def __init__(\n",
    "        self, \n",
    "        dataset,\n",
    "        batch_size: int = 1,  # batch size\n",
    "        shuffle: bool = False,  # if true, dataloader shuffles before sampling each batch\n",
    "        drop_last: bool = False, # drop last batches or not\n",
    "        **kwargs\n",
    "    ):\n",
    "        self.dataset = dataset\n",
    "        self.batch_size = batch_size\n",
    "        self.shuffle = shuffle\n",
    "        self.drop_last = drop_last\n",
    "\n",
    "        self.keys = PRNGSequence(seed=get_config().global_seed) \\\n",
    "            if hk is None else hk.PRNGSequence(get_config().global_seed)\n",
    "        self.data_len = len(dataset)  # Length of the dataset\n",
    "        self.indices = jnp.arange(self.data_len) # available indices in the dataset\n",
    "        self.pose = 0  # record the current position in the dataset\n",
    "        self._shuffle()\n",
    "\n",
    "    def _shuffle(self):\n",
    "        if self.shuffle:\n",
    "            self.indices = jax.random.permutation(next(self.keys), self.indices)\n",
    "        \n",
    "    def _stop_iteration(self):\n",
    "        self.pose = 0\n",
    "        self._shuffle()\n",
    "        raise StopIteration\n",
    "\n",
    "    def __len__(self):\n",
    "        if self.drop_last:\n",
    "            batches = len(self.dataset) // self.batch_size  # get the floor of division\n",
    "        else:\n",
    "            batches = -(len(self.dataset) // -self.batch_size)  # get the ceil of division\n",
    "        return batches\n",
    "\n",
    "    def __next__(self):\n",
    "        if self.pose + self.batch_size <= self.data_len:\n",
    "            batch_indices = self.indices[self.pose: self.pose + self.batch_size]\n",
    "            batch_data = self.dataset[batch_indices]\n",
    "            self.pose += self.batch_size\n",
    "            return batch_data\n",
    "        elif self.pose < self.data_len and not self.drop_last:\n",
    "            batch_indices = self.indices[self.pose:]\n",
    "            batch_data = self.dataset[batch_indices]\n",
    "            self.pose += self.batch_size\n",
    "            return batch_data\n",
    "        else:\n",
    "            self._stop_iteration()\n",
    "\n",
    "    def __iter__(self):\n",
    "        return self"
   ]
  },
  {
   "cell_type": "code",
   "execution_count": null,
   "metadata": {},
   "outputs": [],
   "source": [
    "#| hide\n",
    "test_dataloader(DataLoaderJax, samples=20, batch_size=12)\n",
    "test_dataloader(DataLoaderJax, samples=20, batch_size=10)\n",
    "test_dataloader(DataLoaderJax, samples=11, batch_size=10)"
   ]
  },
  {
   "cell_type": "markdown",
   "metadata": {},
   "source": [
    "## Pytorch Dataloader\n",
    "\n",
    "Use `Pytorch` to load batches. It requires [pytorch](https://pytorch.org/get-started/) to be installed."
   ]
  },
  {
   "cell_type": "code",
   "execution_count": null,
   "metadata": {},
   "outputs": [],
   "source": [
    "#| exporti\n",
    "# adapted from https://jax.readthedocs.io/en/latest/notebooks/Neural_Network_and_Data_Loading.html\n",
    "def _numpy_collate(batch):\n",
    "    if isinstance(batch[0], (np.ndarray, jax.Array)):\n",
    "        return np.stack(batch)\n",
    "    elif isinstance(batch[0], (tuple, list)):\n",
    "        transposed = zip(*batch)\n",
    "        return [_numpy_collate(samples) for samples in transposed]\n",
    "    elif isinstance(batch[0], dict):\n",
    "        return {key: _numpy_collate([d[key] for d in batch]) for key in batch[0]}\n",
    "    else:\n",
    "        return np.array(batch)\n",
    "\n",
    "def _convert_dataset_pytorch(dataset: Dataset):\n",
    "    class DatasetPytorch(torch_data.Dataset):\n",
    "        def __init__(self, dataset: Dataset): self.dataset = dataset\n",
    "        def __len__(self): return len(self.dataset)\n",
    "        def __getitem__(self, idx): return self.dataset[idx]\n",
    "    \n",
    "    return DatasetPytorch(dataset)"
   ]
  },
  {
   "cell_type": "code",
   "execution_count": null,
   "metadata": {},
   "outputs": [],
   "source": [
    "#| export\n",
    "class DataLoaderPytorch(BaseDataLoader):\n",
    "    \"\"\"Pytorch Dataloader\"\"\"\n",
    "    def __init__(\n",
    "        self, \n",
    "        dataset,\n",
    "        batch_size: int = 1,  # Batch size\n",
    "        shuffle: bool = False,  # If true, dataloader shuffles before sampling each batch\n",
    "        drop_last: bool = False, # Drop last batch or not\n",
    "        **kwargs\n",
    "    ):\n",
    "        super().__init__(dataset, batch_size, shuffle, drop_last)\n",
    "        check_pytorch_installed()\n",
    "        from torch.utils.data import BatchSampler, RandomSampler, SequentialSampler\n",
    "        \n",
    "        if 'sampler' in kwargs:\n",
    "            warnings.warn(\"`sampler` is currently not supported. We will ignore it and use `shuffle` instead.\")\n",
    "            del kwargs['sampler']\n",
    "\n",
    "        sampler = RandomSampler(dataset) if shuffle else SequentialSampler(dataset)\n",
    "        batch_sampler = BatchSampler(sampler, batch_size=batch_size, drop_last=drop_last)\n",
    "\n",
    "        self.dataloader = torch_data.DataLoader(\n",
    "            dataset, \n",
    "            batch_sampler=batch_sampler,\n",
    "            # batch_size=batch_size, \n",
    "            # shuffle=shuffle, \n",
    "            # drop_last=drop_last,\n",
    "            collate_fn=_numpy_collate,\n",
    "            **kwargs\n",
    "        ) \n",
    "\n",
    "    def __len__(self):\n",
    "        return len(self.dataloader)\n",
    "\n",
    "    def __next__(self):\n",
    "        return next(self.dataloader)\n",
    "\n",
    "    def __iter__(self):\n",
    "        return self.dataloader.__iter__()"
   ]
  },
  {
   "cell_type": "code",
   "execution_count": null,
   "metadata": {},
   "outputs": [],
   "source": [
    "#| hide\n",
    "test_dataloader(DataLoaderPytorch, samples=20, batch_size=12)\n",
    "test_dataloader(DataLoaderPytorch, samples=20, batch_size=10)\n",
    "test_dataloader(DataLoaderPytorch, samples=11, batch_size=10)"
   ]
  },
  {
   "cell_type": "code",
   "execution_count": null,
   "metadata": {},
   "outputs": [],
   "source": []
  }
 ],
 "metadata": {
  "kernelspec": {
   "display_name": "python3",
   "language": "python",
   "name": "python3"
  }
 },
 "nbformat": 4,
 "nbformat_minor": 2
}
