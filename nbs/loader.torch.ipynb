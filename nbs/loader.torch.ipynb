{
 "cells": [
  {
   "cell_type": "code",
   "execution_count": null,
   "metadata": {},
   "outputs": [],
   "source": [
    "#| default_exp loaders.torch"
   ]
  },
  {
   "cell_type": "code",
   "execution_count": null,
   "metadata": {},
   "outputs": [],
   "source": [
    "#| include: false\n",
    "%load_ext autoreload\n",
    "%autoreload 2\n",
    "from ipynb_path import *\n",
    "import warnings\n",
    "warnings.simplefilter(action='ignore', category=FutureWarning)"
   ]
  },
  {
   "cell_type": "code",
   "execution_count": null,
   "metadata": {},
   "outputs": [],
   "source": [
    "#| export\n",
    "from __future__ import print_function, division, annotations\n",
    "from jax_dataloader.imports import *\n",
    "from jax_dataloader.loaders import BaseDataLoader\n",
    "from jax_dataloader.datasets import Dataset, ArrayDataset, JAXDataset\n",
    "from jax_dataloader.utils import check_pytorch_installed\n",
    "from jax_dataloader.tests import *\n",
    "from jax.tree_util import tree_map\n"
   ]
  },
  {
   "cell_type": "code",
   "execution_count": null,
   "metadata": {},
   "outputs": [],
   "source": [
    "#| hide\n",
    "from fastcore.test import *"
   ]
  },
  {
   "cell_type": "markdown",
   "metadata": {},
   "source": [
    "## `Pytorch`-backed Dataloader\n",
    "\n",
    "Use `Pytorch` to load batches. It requires [pytorch](https://pytorch.org/get-started/) to be installed."
   ]
  },
  {
   "cell_type": "code",
   "execution_count": null,
   "metadata": {},
   "outputs": [],
   "source": [
    "#| export\n",
    "# adapted from https://jax.readthedocs.io/en/latest/notebooks/Neural_Network_and_Data_Loading.html\n",
    "def _numpy_collate(batch):\n",
    "  return tree_map(np.asarray, torch_data.default_collate(batch))"
   ]
  },
  {
   "cell_type": "code",
   "execution_count": null,
   "metadata": {},
   "outputs": [],
   "source": [
    "#| export\n",
    "@dispatch\n",
    "def to_torch_dataset(dataset: JAXDataset) -> torch_data.Dataset:\n",
    "    class DatasetPytorch(torch_data.Dataset):\n",
    "        def __init__(self, dataset: Dataset): self.dataset = dataset\n",
    "        def __len__(self): return len(self.dataset)\n",
    "        def __getitem__(self, idx): return self.dataset[idx]\n",
    "    \n",
    "    return DatasetPytorch(dataset)\n",
    "\n",
    "@dispatch\n",
    "def to_torch_dataset(dataset: TorchDataset):\n",
    "    return dataset\n",
    "\n",
    "@dispatch\n",
    "def to_torch_dataset(dataset: HFDataset):\n",
    "    return dataset.with_format(\"jax\")"
   ]
  },
  {
   "cell_type": "code",
   "execution_count": null,
   "metadata": {},
   "outputs": [],
   "source": [
    "#| export\n",
    "class DataLoaderPytorch(BaseDataLoader):\n",
    "    \"\"\"Pytorch Dataloader\"\"\"\n",
    "    \n",
    "    @typecheck\n",
    "    def __init__(\n",
    "        self, \n",
    "        dataset: Union[JAXDataset, TorchDataset, HFDataset],\n",
    "        batch_size: int = 1,  # Batch size\n",
    "        shuffle: bool = False,  # If true, dataloader shuffles before sampling each batch\n",
    "        drop_last: bool = False, # Drop last batch or not\n",
    "        **kwargs\n",
    "    ):\n",
    "        super().__init__(dataset, batch_size, shuffle, drop_last)\n",
    "        check_pytorch_installed()\n",
    "        from torch.utils.data import BatchSampler, RandomSampler, SequentialSampler\n",
    "\n",
    "        if 'sampler' in kwargs:\n",
    "            warnings.warn(\"`sampler` is currently not supported. We will ignore it and use `shuffle` instead.\")\n",
    "            del kwargs['sampler']\n",
    "\n",
    "        dataset = to_torch_dataset(dataset)\n",
    "        sampler = RandomSampler(dataset) if shuffle else SequentialSampler(dataset)\n",
    "        batch_sampler = BatchSampler(sampler, batch_size=batch_size, drop_last=drop_last)\n",
    "\n",
    "        self.dataloader = torch_data.DataLoader(\n",
    "            dataset, \n",
    "            batch_sampler=batch_sampler,\n",
    "            # batch_size=batch_size, \n",
    "            # shuffle=shuffle, \n",
    "            # drop_last=drop_last,\n",
    "            collate_fn=_numpy_collate,\n",
    "            **kwargs\n",
    "        )\n",
    "\n",
    "    def __len__(self):\n",
    "        return len(self.dataloader)\n",
    "\n",
    "    def __next__(self):\n",
    "        return next(self.dataloader)\n",
    "\n",
    "    def __iter__(self):\n",
    "        return self.dataloader.__iter__()"
   ]
  },
  {
   "cell_type": "code",
   "execution_count": null,
   "metadata": {},
   "outputs": [],
   "source": [
    "samples = 1280\n",
    "batch_size = 12\n",
    "feats = np.arange(samples).repeat(10).reshape(samples, 10)\n",
    "labels = np.arange(samples).reshape(samples, 1)\n",
    "\n",
    "ds_torch = torch_data.TensorDataset(torch.from_numpy(feats), torch.from_numpy(labels))\n",
    "ds_array = ArrayDataset(feats, labels)"
   ]
  },
  {
   "cell_type": "code",
   "execution_count": null,
   "metadata": {},
   "outputs": [],
   "source": [
    "dl_1 = DataLoaderPytorch(ds_torch, batch_size=batch_size, shuffle=True)\n",
    "\n",
    "for _ in range(10):\n",
    "    for (x, y) in dl_1: \n",
    "        assert isinstance(x, np.ndarray)\n",
    "\n",
    "dl_2 = DataLoaderPytorch(ds_array, batch_size=batch_size, shuffle=True)\n",
    "for (x, y) in dl_2: \n",
    "    assert isinstance(x, np.ndarray)"
   ]
  },
  {
   "cell_type": "code",
   "execution_count": null,
   "metadata": {},
   "outputs": [],
   "source": [
    "#| hide\n",
    "#| torch\n",
    "test_dataloader(DataLoaderPytorch, samples=20, batch_size=12)\n",
    "test_dataloader(DataLoaderPytorch, samples=20, batch_size=10)\n",
    "test_dataloader(DataLoaderPytorch, samples=11, batch_size=10)"
   ]
  }
 ],
 "metadata": {
  "kernelspec": {
   "display_name": "python3",
   "language": "python",
   "name": "python3"
  }
 },
 "nbformat": 4,
 "nbformat_minor": 2
}
