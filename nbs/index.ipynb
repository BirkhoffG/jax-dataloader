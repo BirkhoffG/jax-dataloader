{
 "cells": [
  {
   "attachments": {},
   "cell_type": "markdown",
   "metadata": {},
   "source": [
    "# Jax-Dataloader\n",
    "\n",
    "> "
   ]
  },
  {
   "attachments": {},
   "cell_type": "markdown",
   "metadata": {},
   "source": [
    "![Python](https://img.shields.io/pypi/pyversions/jax-dataloader.svg)\n",
    "![CI status](https://github.com/BirkhoffG/jax-dataloader/actions/workflows/test.yaml/badge.svg)\n",
    "![Docs](https://github.com/BirkhoffG/jax-dataloader/actions/workflows/deploy.yaml/badge.svg)\n",
    "![pypi](https://img.shields.io/pypi/v/jax-dataloader)\n",
    "![GitHub License](https://img.shields.io/github/license/BirkhoffG/jax-dataloader)\n",
    "\n",
    "\n",
    "This file will become your README and also the index of your documentation."
   ]
  },
  {
   "cell_type": "markdown",
   "metadata": {},
   "source": [
    "## Install"
   ]
  },
  {
   "cell_type": "markdown",
   "metadata": {},
   "source": [
    "```sh\n",
    "pip install jax_dataloader\n",
    "```"
   ]
  }
 ],
 "metadata": {
  "kernelspec": {
   "display_name": "Python 3",
   "language": "python",
   "name": "python3"
  }
 },
 "nbformat": 4,
 "nbformat_minor": 4
}
