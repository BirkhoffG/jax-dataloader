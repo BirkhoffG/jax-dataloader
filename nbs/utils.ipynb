{
 "cells": [
  {
   "attachments": {},
   "cell_type": "markdown",
   "metadata": {},
   "source": [
    "## Utils"
   ]
  },
  {
   "attachments": {},
   "cell_type": "markdown",
   "metadata": {},
   "source": [
    "Global configs, PRNGSequence, check installed."
   ]
  },
  {
   "cell_type": "code",
   "execution_count": null,
   "metadata": {},
   "outputs": [],
   "source": [
    "#| default_exp utils"
   ]
  },
  {
   "cell_type": "code",
   "execution_count": null,
   "metadata": {},
   "outputs": [],
   "source": [
    "#| include: false\n",
    "%load_ext autoreload\n",
    "%autoreload 2\n",
    "from ipynb_path import *\n",
    "from nbdev import show_doc\n",
    "import warnings\n",
    "warnings.simplefilter(action='ignore', category=FutureWarning)"
   ]
  },
  {
   "cell_type": "code",
   "execution_count": null,
   "metadata": {},
   "outputs": [],
   "source": [
    "#| export\n",
    "from __future__ import print_function, division, annotations\n",
    "from jax_dataloader.imports import *\n",
    "import jax_dataloader as jdl\n",
    "import collections"
   ]
  },
  {
   "cell_type": "code",
   "execution_count": null,
   "metadata": {},
   "outputs": [],
   "source": [
    "#| hide\n",
    "from fastcore.test import test_fail"
   ]
  },
  {
   "cell_type": "markdown",
   "metadata": {},
   "source": [
    "## Configs"
   ]
  },
  {
   "cell_type": "code",
   "execution_count": null,
   "metadata": {},
   "outputs": [],
   "source": [
    "#| export\n",
    "@dataclass\n",
    "class Config:\n",
    "    \"\"\"Global configuration for the library\"\"\"\n",
    "    rng_reserve_size: int\n",
    "    global_seed: int\n",
    "\n",
    "    @classmethod\n",
    "    def default(cls) -> Config:\n",
    "        return cls(rng_reserve_size=1, global_seed=42)"
   ]
  },
  {
   "cell_type": "code",
   "execution_count": null,
   "metadata": {},
   "outputs": [],
   "source": [
    "#| exporti\n",
    "main_config = Config.default()"
   ]
  },
  {
   "cell_type": "code",
   "execution_count": null,
   "metadata": {},
   "outputs": [],
   "source": [
    "#| export\n",
    "def get_config() -> Config:\n",
    "    return main_config"
   ]
  },
  {
   "cell_type": "code",
   "execution_count": null,
   "metadata": {},
   "outputs": [],
   "source": [
    "#| export\n",
    "def manual_seed(seed: int):\n",
    "    \"\"\"Set the seed for the library\"\"\"\n",
    "    main_config.global_seed = seed"
   ]
  },
  {
   "cell_type": "code",
   "execution_count": null,
   "metadata": {},
   "outputs": [],
   "source": [
    "manual_seed(11)\n",
    "assert get_config().global_seed == 11"
   ]
  },
  {
   "cell_type": "markdown",
   "metadata": {},
   "source": [
    "## Check Installation"
   ]
  },
  {
   "cell_type": "code",
   "execution_count": null,
   "metadata": {},
   "outputs": [],
   "source": [
    "#| export\n",
    "def check_pytorch_installed():\n",
    "    if torch_data is None:\n",
    "        raise ModuleNotFoundError(\"`pytorch` library needs to be installed. \"\n",
    "            \"Try `pip install torch`. Please refer to pytorch documentation for details: \"\n",
    "            \"https://pytorch.org/get-started/.\")\n"
   ]
  },
  {
   "cell_type": "code",
   "execution_count": null,
   "metadata": {},
   "outputs": [],
   "source": [
    "#| torch\n",
    "check_pytorch_installed()"
   ]
  },
  {
   "cell_type": "code",
   "execution_count": null,
   "metadata": {},
   "outputs": [],
   "source": [
    "#| export\n",
    "def has_pytorch_tensor(batch) -> bool:\n",
    "    if isinstance(batch[0], torch.Tensor):\n",
    "        return True\n",
    "    elif isinstance(batch[0], (tuple, list)):\n",
    "        transposed = zip(*batch)\n",
    "        return any([has_pytorch_tensor(samples) for samples in transposed])\n",
    "    else:\n",
    "        return False"
   ]
  },
  {
   "cell_type": "code",
   "execution_count": null,
   "metadata": {},
   "outputs": [],
   "source": [
    "#| export\n",
    "def check_hf_installed():\n",
    "    if hf_datasets is None:\n",
    "        raise ModuleNotFoundError(\"`datasets` library needs to be installed. \"\n",
    "            \"Try `pip install datasets`. Please refer to huggingface documentation for details: \"\n",
    "            \"https://huggingface.co/docs/datasets/installation.html.\")"
   ]
  },
  {
   "cell_type": "code",
   "execution_count": null,
   "metadata": {},
   "outputs": [],
   "source": [
    "#| hf\n",
    "check_hf_installed()"
   ]
  },
  {
   "cell_type": "code",
   "execution_count": null,
   "metadata": {},
   "outputs": [],
   "source": [
    "#| export\n",
    "def check_tf_installed():\n",
    "    if tf is None:\n",
    "        raise ModuleNotFoundError(\"`tensorflow` library needs to be installed. \"\n",
    "            \"Try `pip install tensorflow`. Please refer to tensorflow documentation for details: \"\n",
    "            \"https://www.tensorflow.org/install/pip.\")"
   ]
  },
  {
   "cell_type": "code",
   "execution_count": null,
   "metadata": {},
   "outputs": [],
   "source": [
    "#| tf\n",
    "check_tf_installed()"
   ]
  },
  {
   "cell_type": "markdown",
   "metadata": {},
   "source": [
    "## Seed Generator"
   ]
  },
  {
   "cell_type": "code",
   "execution_count": null,
   "metadata": {},
   "outputs": [],
   "source": [
    "#| export\n",
    "class Generator:\n",
    "    def __init__(\n",
    "        self, \n",
    "        *, \n",
    "        generator: jrand.Array | torch.Generator = None,\n",
    "    ):\n",
    "        self._seed = None\n",
    "        self._jax_generator = None\n",
    "        self._torch_generator = None\n",
    "\n",
    "        if generator is None:\n",
    "            self._seed = get_config().global_seed\n",
    "        elif isinstance(generator, torch.Generator):\n",
    "            self._torch_generator = generator\n",
    "        elif isinstance(generator, jax.Array):\n",
    "            self._jax_generator = generator\n",
    "        else:\n",
    "            raise ValueError(f\"generator=`{generator}` is invalid. Must be either a `jax.random.PRNGKey` or a `torch.Generator`.\")\n",
    "        \n",
    "        if self._seed is None and self._torch_generator is not None:\n",
    "            self._seed = self._torch_generator.initial_seed()\n",
    "\n",
    "    def seed(self) -> Optional[int]:\n",
    "        \"\"\"The initial seed of the generator\"\"\"\n",
    "        # TODO: the seed might not be initizalized if the generator is a `jax.random.PRNGKey`\n",
    "        return self._seed\n",
    "    \n",
    "    def manual_seed(self, seed: int) -> Generator:\n",
    "        \"\"\"Set the seed for the generator. This will override the initial seed and the generator.\"\"\"\n",
    "        \n",
    "        if self._jax_generator is not None:\n",
    "            self._jax_generator = jrand.PRNGKey(seed)\n",
    "        if self._torch_generator is not None:\n",
    "            self._torch_generator = torch.Generator().manual_seed(seed)\n",
    "        self._seed = seed\n",
    "        return self\n",
    "    \n",
    "    def jax_generator(self) -> jax.Array:\n",
    "        \"\"\"The JAX generator\"\"\"\n",
    "        if self._jax_generator is None:\n",
    "            self._jax_generator = jrand.PRNGKey(self._seed)\n",
    "        return self._jax_generator\n",
    "    \n",
    "    def torch_generator(self) -> torch.Generator:\n",
    "        \"\"\"The PyTorch generator\"\"\"\n",
    "        check_pytorch_installed()\n",
    "        if self._torch_generator is None and self._seed is not None:\n",
    "            self._torch_generator = torch.Generator().manual_seed(self._seed)\n",
    "        if self._torch_generator is None:\n",
    "            raise ValueError(\"Neither pytorch generator or seed is specified.\")\n",
    "        return self._torch_generator"
   ]
  },
  {
   "cell_type": "code",
   "execution_count": null,
   "metadata": {},
   "outputs": [],
   "source": [
    "# Example of using the generator\n",
    "g = Generator()\n",
    "assert g.seed() == get_config().global_seed\n",
    "assert jnp.array_equal(g.jax_generator(), jax.random.PRNGKey(get_config().global_seed)) \n",
    "assert g.torch_generator().initial_seed() == get_config().global_seed\n",
    "\n",
    "# Examples of using the generator when passing a `jax.random.PRNGKey` or `torch.Generator`\n",
    "g_jax = Generator(generator=jax.random.PRNGKey(123))\n",
    "assert jnp.array_equal(g_jax.jax_generator(), jax.random.PRNGKey(123))\n",
    "assert g_jax.seed() is None\n",
    "\n",
    "g_torch = Generator(generator=torch.Generator().manual_seed(123))\n",
    "assert g_torch.torch_generator().initial_seed() == 123\n",
    "assert g_torch.seed() == 123\n",
    "assert jnp.array_equal(g_torch.jax_generator(), jax.random.PRNGKey(123))"
   ]
  },
  {
   "cell_type": "code",
   "execution_count": null,
   "metadata": {},
   "outputs": [],
   "source": [
    "#| hide\n",
    "test_fail(g_jax.torch_generator, contains='Neither pytorch generator or seed is specified')"
   ]
  },
  {
   "cell_type": "code",
   "execution_count": null,
   "metadata": {},
   "outputs": [],
   "source": [
    "# Example of using `manual_seed` to set the seed\n",
    "g_jax.manual_seed(456)\n",
    "assert g_jax.seed() == 456\n",
    "assert jnp.array_equal(g_jax.jax_generator(), jax.random.PRNGKey(456))\n",
    "assert g_jax.torch_generator().initial_seed() == 456\n",
    "\n",
    "g_torch.manual_seed(789)\n",
    "assert g_torch.seed() == 789\n",
    "assert g_torch.torch_generator().initial_seed() == 789\n",
    "assert jnp.array_equal(g_torch.jax_generator(), jax.random.PRNGKey(789))"
   ]
  },
  {
   "cell_type": "markdown",
   "metadata": {},
   "source": [
    "## Util Functions"
   ]
  },
  {
   "cell_type": "code",
   "execution_count": null,
   "metadata": {},
   "outputs": [],
   "source": [
    "#| export\n",
    "def asnumpy(x) -> np.ndarray:\n",
    "    if isinstance(x, np.ndarray):\n",
    "        return x\n",
    "    elif isinstance(x, jnp.ndarray):\n",
    "        return x.__array__()\n",
    "    elif torch_data and isinstance(x, torch.Tensor):\n",
    "        return x.detach().cpu().numpy()\n",
    "    elif tf and isinstance(x, tf.Tensor):\n",
    "        return x.numpy()\n",
    "    elif isinstance(x, (tuple, list)):\n",
    "        return map(asnumpy, x)\n",
    "    else:\n",
    "        raise ValueError(f\"Unknown type: {type(x)}\")"
   ]
  },
  {
   "cell_type": "code",
   "execution_count": null,
   "metadata": {},
   "outputs": [],
   "source": [
    "np_x = np.array([1, 2, 3])\n",
    "jnp_x = jnp.array([1, 2, 3])\n",
    "torch_x = torch.tensor([1, 2, 3])\n",
    "tf_x = tf.constant([1, 2, 3])\n",
    "assert np.array_equal(asnumpy(np_x), np_x)\n",
    "assert np.array_equal(asnumpy(jnp_x), np_x) and not isinstance(asnumpy(jnp_x), jnp.ndarray)\n",
    "assert np.array_equal(asnumpy(torch_x), np_x) and not isinstance(asnumpy(torch_x), torch.Tensor)\n",
    "assert np.array_equal(asnumpy(tf_x), np_x) and not isinstance(asnumpy(tf_x), tf.Tensor)\n"
   ]
  }
 ],
 "metadata": {
  "kernelspec": {
   "display_name": "python3",
   "language": "python",
   "name": "python3"
  }
 },
 "nbformat": 4,
 "nbformat_minor": 2
}
